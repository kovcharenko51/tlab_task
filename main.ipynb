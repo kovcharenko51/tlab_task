{
  "cells": [
    {
      "cell_type": "markdown",
      "source": [
        "**Привет! Если ты здесь, то скорее всего ты хочешь сделать тестовое задание в RL-команду лаборатории Тинькофф -- TLab.**\n",
        "\n",
        "В случае, если ты будешь запускать свой эксперименты в коллабе, то мы подготовили для тебя этот файл с установкой D4RL (задачи для Offline RL) зависимостей. Если же ты будешь запускаться на какой-то другой платформе (non-jupyter-based), то мы советуем воспользоваться докер-образом нашей Offline RL библиотеки [CORL](https://github.com/tinkoff-ai/CORL)."
      ],
      "metadata": {
        "id": "oAa05R-hNfW9"
      }
    },
    {
      "cell_type": "markdown",
      "source": [
        "# Install D4RL"
      ],
      "metadata": {
        "id": "GevZcaqRXXVv"
      }
    },
    {
      "cell_type": "code",
      "execution_count": 1,
      "metadata": {
        "id": "s7PPg0VZG5cK",
        "colab": {
          "base_uri": "https://localhost:8080/"
        },
        "outputId": "34a500a1-a4c8-4f76-866f-5f136827b1f8"
      },
      "outputs": [
        {
          "output_type": "stream",
          "name": "stdout",
          "text": [
            "Selecting previously unselected package libgl1-mesa-glx:amd64.\n",
            "(Reading database ... 122518 files and directories currently installed.)\n",
            "Preparing to unpack .../00-libgl1-mesa-glx_21.2.6-0ubuntu0.1~20.04.2_amd64.deb ...\n",
            "Unpacking libgl1-mesa-glx:amd64 (21.2.6-0ubuntu0.1~20.04.2) ...\n",
            "Selecting previously unselected package libgles1:amd64.\n",
            "Preparing to unpack .../01-libgles1_1.3.2-1~ubuntu0.20.04.2_amd64.deb ...\n",
            "Unpacking libgles1:amd64 (1.3.2-1~ubuntu0.20.04.2) ...\n",
            "Selecting previously unselected package libgles-dev:amd64.\n",
            "Preparing to unpack .../02-libgles-dev_1.3.2-1~ubuntu0.20.04.2_amd64.deb ...\n",
            "Unpacking libgles-dev:amd64 (1.3.2-1~ubuntu0.20.04.2) ...\n",
            "Selecting previously unselected package libopengl-dev:amd64.\n",
            "Preparing to unpack .../03-libopengl-dev_1.3.2-1~ubuntu0.20.04.2_amd64.deb ...\n",
            "Unpacking libopengl-dev:amd64 (1.3.2-1~ubuntu0.20.04.2) ...\n",
            "Selecting previously unselected package libglvnd-dev:amd64.\n",
            "Preparing to unpack .../04-libglvnd-dev_1.3.2-1~ubuntu0.20.04.2_amd64.deb ...\n",
            "Unpacking libglvnd-dev:amd64 (1.3.2-1~ubuntu0.20.04.2) ...\n",
            "Selecting previously unselected package libgl1-mesa-dev:amd64.\n",
            "Preparing to unpack .../05-libgl1-mesa-dev_21.2.6-0ubuntu0.1~20.04.2_amd64.deb ...\n",
            "Unpacking libgl1-mesa-dev:amd64 (21.2.6-0ubuntu0.1~20.04.2) ...\n",
            "Selecting previously unselected package libglew2.1:amd64.\n",
            "Preparing to unpack .../06-libglew2.1_2.1.0-4_amd64.deb ...\n",
            "Unpacking libglew2.1:amd64 (2.1.0-4) ...\n",
            "Selecting previously unselected package libglew-dev:amd64.\n",
            "Preparing to unpack .../07-libglew-dev_2.1.0-4_amd64.deb ...\n",
            "Unpacking libglew-dev:amd64 (2.1.0-4) ...\n",
            "Selecting previously unselected package libglfw3:amd64.\n",
            "Preparing to unpack .../08-libglfw3_3.3.2-1_amd64.deb ...\n",
            "Unpacking libglfw3:amd64 (3.3.2-1) ...\n",
            "Selecting previously unselected package patchelf.\n",
            "Preparing to unpack .../09-patchelf_0.10-2build1_amd64.deb ...\n",
            "Unpacking patchelf (0.10-2build1) ...\n",
            "Selecting previously unselected package libosmesa6:amd64.\n",
            "Preparing to unpack .../10-libosmesa6_21.2.6-0ubuntu0.1~20.04.2_amd64.deb ...\n",
            "Unpacking libosmesa6:amd64 (21.2.6-0ubuntu0.1~20.04.2) ...\n",
            "Selecting previously unselected package libosmesa6-dev:amd64.\n",
            "Preparing to unpack .../11-libosmesa6-dev_21.2.6-0ubuntu0.1~20.04.2_amd64.deb ...\n",
            "Unpacking libosmesa6-dev:amd64 (21.2.6-0ubuntu0.1~20.04.2) ...\n",
            "Setting up libglfw3:amd64 (3.3.2-1) ...\n",
            "Setting up libgles1:amd64 (1.3.2-1~ubuntu0.20.04.2) ...\n",
            "Setting up libgl1-mesa-glx:amd64 (21.2.6-0ubuntu0.1~20.04.2) ...\n",
            "Setting up libglew2.1:amd64 (2.1.0-4) ...\n",
            "Setting up libopengl-dev:amd64 (1.3.2-1~ubuntu0.20.04.2) ...\n",
            "Setting up libgles-dev:amd64 (1.3.2-1~ubuntu0.20.04.2) ...\n",
            "Setting up patchelf (0.10-2build1) ...\n",
            "Setting up libosmesa6:amd64 (21.2.6-0ubuntu0.1~20.04.2) ...\n",
            "Setting up libglvnd-dev:amd64 (1.3.2-1~ubuntu0.20.04.2) ...\n",
            "Setting up libglew-dev:amd64 (2.1.0-4) ...\n",
            "Setting up libosmesa6-dev:amd64 (21.2.6-0ubuntu0.1~20.04.2) ...\n",
            "Setting up libgl1-mesa-dev:amd64 (21.2.6-0ubuntu0.1~20.04.2) ...\n",
            "Processing triggers for man-db (2.9.1-1) ...\n",
            "Processing triggers for libc-bin (2.31-0ubuntu9.9) ...\n",
            "Looking in indexes: https://pypi.org/simple, https://us-python.pkg.dev/colab-wheels/public/simple/\n",
            "Collecting mujoco-py<2.2,>=2.1\n",
            "  Downloading mujoco_py-2.1.2.14-py3-none-any.whl (2.4 MB)\n",
            "\u001b[2K     \u001b[90m━━━━━━━━━━━━━━━━━━━━━━━━━━━━━━━━━━━━━━━━\u001b[0m \u001b[32m2.4/2.4 MB\u001b[0m \u001b[31m60.2 MB/s\u001b[0m eta \u001b[36m0:00:00\u001b[0m\n",
            "\u001b[?25hRequirement already satisfied: imageio>=2.1.2 in /usr/local/lib/python3.10/dist-packages (from mujoco-py<2.2,>=2.1) (2.25.1)\n",
            "Collecting fasteners~=0.15\n",
            "  Downloading fasteners-0.18-py3-none-any.whl (18 kB)\n",
            "Collecting glfw>=1.4.0\n",
            "  Downloading glfw-2.5.9-py2.py27.py3.py30.py31.py32.py33.py34.py35.py36.py37.py38-none-manylinux2014_x86_64.whl (207 kB)\n",
            "\u001b[2K     \u001b[90m━━━━━━━━━━━━━━━━━━━━━━━━━━━━━━━━━━━━━━\u001b[0m \u001b[32m207.8/207.8 kB\u001b[0m \u001b[31m11.7 MB/s\u001b[0m eta \u001b[36m0:00:00\u001b[0m\n",
            "\u001b[?25hRequirement already satisfied: cffi>=1.10 in /usr/local/lib/python3.10/dist-packages (from mujoco-py<2.2,>=2.1) (1.15.1)\n",
            "Requirement already satisfied: numpy>=1.11 in /usr/local/lib/python3.10/dist-packages (from mujoco-py<2.2,>=2.1) (1.22.4)\n",
            "Requirement already satisfied: Cython>=0.27.2 in /usr/local/lib/python3.10/dist-packages (from mujoco-py<2.2,>=2.1) (0.29.34)\n",
            "Requirement already satisfied: pycparser in /usr/local/lib/python3.10/dist-packages (from cffi>=1.10->mujoco-py<2.2,>=2.1) (2.21)\n",
            "Requirement already satisfied: pillow>=8.3.2 in /usr/local/lib/python3.10/dist-packages (from imageio>=2.1.2->mujoco-py<2.2,>=2.1) (8.4.0)\n",
            "Installing collected packages: glfw, fasteners, mujoco-py\n",
            "Successfully installed fasteners-0.18 glfw-2.5.9 mujoco-py-2.1.2.14\n",
            "Compiling /usr/local/lib/python3.10/dist-packages/mujoco_py/cymj.pyx because it depends on /usr/local/lib/python3.10/dist-packages/mujoco_py/pxd/mujoco.pxd.\n",
            "[1/1] Cythonizing /usr/local/lib/python3.10/dist-packages/mujoco_py/cymj.pyx\n",
            "running build_ext\n",
            "building 'mujoco_py.cymj' extension\n",
            "creating /usr/local/lib/python3.10/dist-packages/mujoco_py/generated/_pyxbld_2.1.2.14_310_linuxcpuextensionbuilder\n",
            "creating /usr/local/lib/python3.10/dist-packages/mujoco_py/generated/_pyxbld_2.1.2.14_310_linuxcpuextensionbuilder/temp.linux-x86_64-3.10\n",
            "creating /usr/local/lib/python3.10/dist-packages/mujoco_py/generated/_pyxbld_2.1.2.14_310_linuxcpuextensionbuilder/temp.linux-x86_64-3.10/usr\n",
            "creating /usr/local/lib/python3.10/dist-packages/mujoco_py/generated/_pyxbld_2.1.2.14_310_linuxcpuextensionbuilder/temp.linux-x86_64-3.10/usr/local\n",
            "creating /usr/local/lib/python3.10/dist-packages/mujoco_py/generated/_pyxbld_2.1.2.14_310_linuxcpuextensionbuilder/temp.linux-x86_64-3.10/usr/local/lib\n",
            "creating /usr/local/lib/python3.10/dist-packages/mujoco_py/generated/_pyxbld_2.1.2.14_310_linuxcpuextensionbuilder/temp.linux-x86_64-3.10/usr/local/lib/python3.10\n",
            "creating /usr/local/lib/python3.10/dist-packages/mujoco_py/generated/_pyxbld_2.1.2.14_310_linuxcpuextensionbuilder/temp.linux-x86_64-3.10/usr/local/lib/python3.10/dist-packages\n",
            "creating /usr/local/lib/python3.10/dist-packages/mujoco_py/generated/_pyxbld_2.1.2.14_310_linuxcpuextensionbuilder/temp.linux-x86_64-3.10/usr/local/lib/python3.10/dist-packages/mujoco_py\n",
            "creating /usr/local/lib/python3.10/dist-packages/mujoco_py/generated/_pyxbld_2.1.2.14_310_linuxcpuextensionbuilder/temp.linux-x86_64-3.10/usr/local/lib/python3.10/dist-packages/mujoco_py/gl\n",
            "x86_64-linux-gnu-gcc -pthread -Wno-unused-result -Wsign-compare -DNDEBUG -g -fwrapv -O2 -Wall -g -fstack-protector-strong -Wformat -Werror=format-security -g -fwrapv -O2 -g -fstack-protector-strong -Wformat -Werror=format-security -Wdate-time -D_FORTIFY_SOURCE=2 -fPIC -I/usr/local/lib/python3.10/dist-packages/mujoco_py -I/root/.mujoco/mujoco210/include -I/usr/local/lib/python3.10/dist-packages/numpy/core/include -I/usr/include/python3.10 -c /usr/local/lib/python3.10/dist-packages/mujoco_py/cymj.c -o /usr/local/lib/python3.10/dist-packages/mujoco_py/generated/_pyxbld_2.1.2.14_310_linuxcpuextensionbuilder/temp.linux-x86_64-3.10/usr/local/lib/python3.10/dist-packages/mujoco_py/cymj.o -fopenmp -w\n",
            "x86_64-linux-gnu-gcc -pthread -Wno-unused-result -Wsign-compare -DNDEBUG -g -fwrapv -O2 -Wall -g -fstack-protector-strong -Wformat -Werror=format-security -g -fwrapv -O2 -g -fstack-protector-strong -Wformat -Werror=format-security -Wdate-time -D_FORTIFY_SOURCE=2 -fPIC -I/usr/local/lib/python3.10/dist-packages/mujoco_py -I/root/.mujoco/mujoco210/include -I/usr/local/lib/python3.10/dist-packages/numpy/core/include -I/usr/include/python3.10 -c /usr/local/lib/python3.10/dist-packages/mujoco_py/gl/osmesashim.c -o /usr/local/lib/python3.10/dist-packages/mujoco_py/generated/_pyxbld_2.1.2.14_310_linuxcpuextensionbuilder/temp.linux-x86_64-3.10/usr/local/lib/python3.10/dist-packages/mujoco_py/gl/osmesashim.o -fopenmp -w\n",
            "creating /usr/local/lib/python3.10/dist-packages/mujoco_py/generated/_pyxbld_2.1.2.14_310_linuxcpuextensionbuilder/lib.linux-x86_64-3.10\n",
            "creating /usr/local/lib/python3.10/dist-packages/mujoco_py/generated/_pyxbld_2.1.2.14_310_linuxcpuextensionbuilder/lib.linux-x86_64-3.10/mujoco_py\n",
            "x86_64-linux-gnu-gcc -pthread -shared -Wl,-O1 -Wl,-Bsymbolic-functions -Wl,-Bsymbolic-functions -g -fwrapv -O2 -Wl,-Bsymbolic-functions -g -fwrapv -O2 -g -fstack-protector-strong -Wformat -Werror=format-security -Wdate-time -D_FORTIFY_SOURCE=2 -fPIC /usr/local/lib/python3.10/dist-packages/mujoco_py/generated/_pyxbld_2.1.2.14_310_linuxcpuextensionbuilder/temp.linux-x86_64-3.10/usr/local/lib/python3.10/dist-packages/mujoco_py/cymj.o /usr/local/lib/python3.10/dist-packages/mujoco_py/generated/_pyxbld_2.1.2.14_310_linuxcpuextensionbuilder/temp.linux-x86_64-3.10/usr/local/lib/python3.10/dist-packages/mujoco_py/gl/osmesashim.o -L/root/.mujoco/mujoco210/bin -Wl,--enable-new-dtags,-R/root/.mujoco/mujoco210/bin -lmujoco210 -lglewosmesa -lOSMesa -lGL -o /usr/local/lib/python3.10/dist-packages/mujoco_py/generated/_pyxbld_2.1.2.14_310_linuxcpuextensionbuilder/lib.linux-x86_64-3.10/mujoco_py/cymj.cpython-310-x86_64-linux-gnu.so -fopenmp\n"
          ]
        }
      ],
      "source": [
        "#Include this at the top of your colab code\n",
        "import os\n",
        "if not os.path.exists('.mujoco_setup_complete'):\n",
        "  # Get the prereqs\n",
        "  !apt-get -qq update\n",
        "  !apt-get -qq install -y libosmesa6-dev libgl1-mesa-glx libglfw3 libgl1-mesa-dev libglew-dev patchelf\n",
        "  # Get Mujoco\n",
        "  !mkdir ~/.mujoco\n",
        "  !wget -q https://mujoco.org/download/mujoco210-linux-x86_64.tar.gz -O mujoco.tar.gz\n",
        "  !tar -zxf mujoco.tar.gz -C \"$HOME/.mujoco\"\n",
        "  !rm mujoco.tar.gz\n",
        "  # Add it to the actively loaded path and the bashrc path (these only do so much)\n",
        "  !echo 'export LD_LIBRARY_PATH=$LD_LIBRARY_PATH:$HOME/.mujoco/mujoco210/bin' >> ~/.bashrc \n",
        "  !echo 'export LD_PRELOAD=$LD_PRELOAD:/usr/lib/x86_64-linux-gnu/libGLEW.so' >> ~/.bashrc \n",
        "  # THE ANNOYING ONE, FORCE IT INTO LDCONFIG SO WE ACTUALLY GET ACCESS TO IT THIS SESSION\n",
        "  !echo \"/root/.mujoco/mujoco210/bin\" > /etc/ld.so.conf.d/mujoco_ld_lib_path.conf\n",
        "  !ldconfig\n",
        "  # Install Mujoco-py\n",
        "  !pip3 install -U 'mujoco-py<2.2,>=2.1'\n",
        "  # run once\n",
        "  !touch .mujoco_setup_complete\n",
        "\n",
        "try:\n",
        "  if _mujoco_run_once:\n",
        "    pass\n",
        "except NameError:\n",
        "  _mujoco_run_once = False\n",
        "if not _mujoco_run_once:\n",
        "  # Add it to the actively loaded path and the bashrc path (these only do so much)\n",
        "  try:\n",
        "    os.environ['LD_LIBRARY_PATH']=os.environ['LD_LIBRARY_PATH'] + ':/root/.mujoco/mujoco210/bin'\n",
        "    os.environ['LD_LIBRARY_PATH']=os.environ['LD_LIBRARY_PATH'] + ':/usr/lib/nvidia'\n",
        "  except KeyError:\n",
        "    os.environ['LD_LIBRARY_PATH']='/root/.mujoco/mujoco210/bin'\n",
        "  try:\n",
        "    os.environ['LD_PRELOAD']=os.environ['LD_PRELOAD'] + ':/usr/lib/x86_64-linux-gnu/libGLEW.so'\n",
        "  except KeyError:\n",
        "    os.environ['LD_PRELOAD']='/usr/lib/x86_64-linux-gnu/libGLEW.so'\n",
        "  # presetup so we don't see output on first env initialization\n",
        "  import mujoco_py\n",
        "  _mujoco_run_once = True"
      ]
    },
    {
      "cell_type": "code",
      "source": [
        "!pip install git+https://github.com/tinkoff-ai/d4rl@master#egg=d4rl"
      ],
      "metadata": {
        "colab": {
          "base_uri": "https://localhost:8080/"
        },
        "id": "IjfW3W8ucbo7",
        "outputId": "d3e04674-bbdf-4022-f669-d76ff8e0fda1"
      },
      "execution_count": 2,
      "outputs": [
        {
          "output_type": "stream",
          "name": "stdout",
          "text": [
            "Looking in indexes: https://pypi.org/simple, https://us-python.pkg.dev/colab-wheels/public/simple/\n",
            "Collecting d4rl\n",
            "  Cloning https://github.com/tinkoff-ai/d4rl (to revision master) to /tmp/pip-install-nxq7x_nh/d4rl_0d2d8c7b9a0f4f368feb2866147b36df\n",
            "  Running command git clone --filter=blob:none --quiet https://github.com/tinkoff-ai/d4rl /tmp/pip-install-nxq7x_nh/d4rl_0d2d8c7b9a0f4f368feb2866147b36df\n",
            "  Resolved https://github.com/tinkoff-ai/d4rl to commit db6e4b34bb5ce2a51dd3879177c0a0223208a614\n",
            "  Preparing metadata (setup.py) ... \u001b[?25l\u001b[?25hdone\n",
            "Collecting mjrl@ git+https://github.com/aravindr93/mjrl@master#egg=mjrl\n",
            "  Cloning https://github.com/aravindr93/mjrl (to revision master) to /tmp/pip-install-nxq7x_nh/mjrl_7121a49fdf7c4bb49e84b61c918562ed\n",
            "  Running command git clone --filter=blob:none --quiet https://github.com/aravindr93/mjrl /tmp/pip-install-nxq7x_nh/mjrl_7121a49fdf7c4bb49e84b61c918562ed\n",
            "  Resolved https://github.com/aravindr93/mjrl to commit 3871d93763d3b49c4741e6daeaebbc605fe140dc\n",
            "  Preparing metadata (setup.py) ... \u001b[?25l\u001b[?25hdone\n",
            "Collecting gym<0.24.0\n",
            "  Downloading gym-0.23.1.tar.gz (626 kB)\n",
            "\u001b[2K     \u001b[90m━━━━━━━━━━━━━━━━━━━━━━━━━━━━━━━━━━━━━━\u001b[0m \u001b[32m626.2/626.2 kB\u001b[0m \u001b[31m15.1 MB/s\u001b[0m eta \u001b[36m0:00:00\u001b[0m\n",
            "\u001b[?25h  Installing build dependencies ... \u001b[?25l\u001b[?25hdone\n",
            "  Getting requirements to build wheel ... \u001b[?25l\u001b[?25hdone\n",
            "  Preparing metadata (pyproject.toml) ... \u001b[?25l\u001b[?25hdone\n",
            "Requirement already satisfied: numpy in /usr/local/lib/python3.10/dist-packages (from d4rl) (1.22.4)\n",
            "Requirement already satisfied: mujoco_py in /usr/local/lib/python3.10/dist-packages (from d4rl) (2.1.2.14)\n",
            "Collecting pybullet\n",
            "  Downloading pybullet-3.2.5.tar.gz (80.5 MB)\n",
            "\u001b[2K     \u001b[90m━━━━━━━━━━━━━━━━━━━━━━━━━━━━━━━━━━━━━━━━\u001b[0m \u001b[32m80.5/80.5 MB\u001b[0m \u001b[31m12.1 MB/s\u001b[0m eta \u001b[36m0:00:00\u001b[0m\n",
            "\u001b[?25h  Preparing metadata (setup.py) ... \u001b[?25l\u001b[?25hdone\n",
            "Requirement already satisfied: h5py in /usr/local/lib/python3.10/dist-packages (from d4rl) (3.8.0)\n",
            "Requirement already satisfied: termcolor in /usr/local/lib/python3.10/dist-packages (from d4rl) (2.3.0)\n",
            "Requirement already satisfied: click in /usr/local/lib/python3.10/dist-packages (from d4rl) (8.1.3)\n",
            "Collecting dm_control>=1.0.3\n",
            "  Downloading dm_control-1.0.12-py3-none-any.whl (39.3 MB)\n",
            "\u001b[2K     \u001b[90m━━━━━━━━━━━━━━━━━━━━━━━━━━━━━━━━━━━━━━━━\u001b[0m \u001b[32m39.3/39.3 MB\u001b[0m \u001b[31m14.2 MB/s\u001b[0m eta \u001b[36m0:00:00\u001b[0m\n",
            "\u001b[?25hRequirement already satisfied: dm-tree!=0.1.2 in /usr/local/lib/python3.10/dist-packages (from dm_control>=1.0.3->d4rl) (0.1.8)\n",
            "Requirement already satisfied: requests in /usr/local/lib/python3.10/dist-packages (from dm_control>=1.0.3->d4rl) (2.27.1)\n",
            "Collecting labmaze\n",
            "  Downloading labmaze-1.0.6-cp310-cp310-manylinux_2_17_x86_64.manylinux2014_x86_64.whl (4.9 MB)\n",
            "\u001b[2K     \u001b[90m━━━━━━━━━━━━━━━━━━━━━━━━━━━━━━━━━━━━━━━━\u001b[0m \u001b[32m4.9/4.9 MB\u001b[0m \u001b[31m97.9 MB/s\u001b[0m eta \u001b[36m0:00:00\u001b[0m\n",
            "\u001b[?25hRequirement already satisfied: lxml in /usr/local/lib/python3.10/dist-packages (from dm_control>=1.0.3->d4rl) (4.9.2)\n",
            "Requirement already satisfied: setuptools!=50.0.0 in /usr/local/lib/python3.10/dist-packages (from dm_control>=1.0.3->d4rl) (67.7.2)\n",
            "Requirement already satisfied: scipy in /usr/local/lib/python3.10/dist-packages (from dm_control>=1.0.3->d4rl) (1.10.1)\n",
            "Requirement already satisfied: glfw in /usr/local/lib/python3.10/dist-packages (from dm_control>=1.0.3->d4rl) (2.5.9)\n",
            "Requirement already satisfied: pyparsing>=3.0.0 in /usr/local/lib/python3.10/dist-packages (from dm_control>=1.0.3->d4rl) (3.0.9)\n",
            "Requirement already satisfied: protobuf>=3.19.4 in /usr/local/lib/python3.10/dist-packages (from dm_control>=1.0.3->d4rl) (3.20.3)\n",
            "Collecting mujoco>=2.3.4\n",
            "  Downloading mujoco-2.3.5-cp310-cp310-manylinux_2_17_x86_64.manylinux2014_x86_64.whl (4.3 MB)\n",
            "\u001b[2K     \u001b[90m━━━━━━━━━━━━━━━━━━━━━━━━━━━━━━━━━━━━━━━━\u001b[0m \u001b[32m4.3/4.3 MB\u001b[0m \u001b[31m98.9 MB/s\u001b[0m eta \u001b[36m0:00:00\u001b[0m\n",
            "\u001b[?25hRequirement already satisfied: tqdm in /usr/local/lib/python3.10/dist-packages (from dm_control>=1.0.3->d4rl) (4.65.0)\n",
            "Collecting dm-env\n",
            "  Downloading dm_env-1.6-py3-none-any.whl (26 kB)\n",
            "Requirement already satisfied: absl-py>=0.7.0 in /usr/local/lib/python3.10/dist-packages (from dm_control>=1.0.3->d4rl) (1.4.0)\n",
            "Requirement already satisfied: pyopengl>=3.1.4 in /usr/local/lib/python3.10/dist-packages (from dm_control>=1.0.3->d4rl) (3.1.6)\n",
            "Requirement already satisfied: cloudpickle>=1.2.0 in /usr/local/lib/python3.10/dist-packages (from gym<0.24.0->d4rl) (2.2.1)\n",
            "Requirement already satisfied: gym-notices>=0.0.4 in /usr/local/lib/python3.10/dist-packages (from gym<0.24.0->d4rl) (0.0.8)\n",
            "Requirement already satisfied: imageio>=2.1.2 in /usr/local/lib/python3.10/dist-packages (from mujoco_py->d4rl) (2.25.1)\n",
            "Requirement already satisfied: cffi>=1.10 in /usr/local/lib/python3.10/dist-packages (from mujoco_py->d4rl) (1.15.1)\n",
            "Requirement already satisfied: Cython>=0.27.2 in /usr/local/lib/python3.10/dist-packages (from mujoco_py->d4rl) (0.29.34)\n",
            "Requirement already satisfied: fasteners~=0.15 in /usr/local/lib/python3.10/dist-packages (from mujoco_py->d4rl) (0.18)\n",
            "Requirement already satisfied: pycparser in /usr/local/lib/python3.10/dist-packages (from cffi>=1.10->mujoco_py->d4rl) (2.21)\n",
            "Requirement already satisfied: pillow>=8.3.2 in /usr/local/lib/python3.10/dist-packages (from imageio>=2.1.2->mujoco_py->d4rl) (8.4.0)\n",
            "Requirement already satisfied: charset-normalizer~=2.0.0 in /usr/local/lib/python3.10/dist-packages (from requests->dm_control>=1.0.3->d4rl) (2.0.12)\n",
            "Requirement already satisfied: certifi>=2017.4.17 in /usr/local/lib/python3.10/dist-packages (from requests->dm_control>=1.0.3->d4rl) (2022.12.7)\n",
            "Requirement already satisfied: idna<4,>=2.5 in /usr/local/lib/python3.10/dist-packages (from requests->dm_control>=1.0.3->d4rl) (3.4)\n",
            "Requirement already satisfied: urllib3<1.27,>=1.21.1 in /usr/local/lib/python3.10/dist-packages (from requests->dm_control>=1.0.3->d4rl) (1.26.15)\n",
            "Building wheels for collected packages: d4rl, gym, mjrl, pybullet\n",
            "  Building wheel for d4rl (setup.py) ... \u001b[?25l\u001b[?25hdone\n",
            "  Created wheel for d4rl: filename=d4rl-1.1-py3-none-any.whl size=26412096 sha256=ee8d5222917e3b800310e3efde461f13a330f878d420c16626afe72734b18368\n",
            "  Stored in directory: /tmp/pip-ephem-wheel-cache-swjtugxj/wheels/ef/b8/4d/5bf068f5952e4eca0a1dba8a523c773cfede7fce49f10bc47b\n",
            "  Building wheel for gym (pyproject.toml) ... \u001b[?25l\u001b[?25hdone\n",
            "  Created wheel for gym: filename=gym-0.23.1-py3-none-any.whl size=701375 sha256=e9824597cf282e95ff5edb019d5dd17e409f419d828e89e44cca81d7f47c7de1\n",
            "  Stored in directory: /root/.cache/pip/wheels/1a/00/fb/fe5cf2860fb9b7bc860e28f00095a1f42c7b726dd6f42d1acc\n",
            "  Building wheel for mjrl (setup.py) ... \u001b[?25l\u001b[?25hdone\n",
            "  Created wheel for mjrl: filename=mjrl-1.0.0-py3-none-any.whl size=61954 sha256=9625a09e253d014f429f26d55d6e1588e2ddb1ba53277d85d74b5bed5275a383\n",
            "  Stored in directory: /tmp/pip-ephem-wheel-cache-swjtugxj/wheels/8f/99/f9/efd223b38d503df5eaada10ffe96a869fb0c0f3c92d9e43ed0\n",
            "  Building wheel for pybullet (setup.py) ... \u001b[?25l\u001b[?25hdone\n",
            "  Created wheel for pybullet: filename=pybullet-3.2.5-cp310-cp310-linux_x86_64.whl size=101450643 sha256=3264f6602178a1efcfa71f57d12e74cb7e528ff5de85252c0e625337d7d2102f\n",
            "  Stored in directory: /root/.cache/pip/wheels/6b/fa/1a/c315a5133f0c9bf202a6daa5d70891120e7fe403e06e3407cc\n",
            "Successfully built d4rl gym mjrl pybullet\n",
            "Installing collected packages: pybullet, mjrl, mujoco, labmaze, gym, dm-env, dm_control, d4rl\n",
            "  Attempting uninstall: gym\n",
            "    Found existing installation: gym 0.25.2\n",
            "    Uninstalling gym-0.25.2:\n",
            "      Successfully uninstalled gym-0.25.2\n",
            "Successfully installed d4rl-1.1 dm-env-1.6 dm_control-1.0.12 gym-0.23.1 labmaze-1.0.6 mjrl-1.0.0 mujoco-2.3.5 pybullet-3.2.5\n"
          ]
        }
      ]
    },
    {
      "cell_type": "markdown",
      "source": [
        "Давайте проверим, что все работает: датасет для maze2d-umaze-v1 (для примера) должен скачаться и должны отобразиться массив observations."
      ],
      "metadata": {
        "id": "F2J4cPd5aWyt"
      }
    },
    {
      "cell_type": "code",
      "source": [
        "import gym\n",
        "import d4rl # Import required to register environments\n",
        "\n",
        "# Create the environment\n",
        "env = gym.make('maze2d-umaze-v1')\n",
        "\n",
        "# d4rl abides by the OpenAI gym interface\n",
        "env.reset()\n",
        "env.step(env.action_space.sample())\n",
        "\n",
        "# Each task is associated with a dataset\n",
        "# dataset contains observations, actions, rewards, terminals, and infos\n",
        "dataset = env.get_dataset()\n",
        "print(dataset['observations']) # An N x dim_observation Numpy array of observations\n",
        "\n",
        "# Alternatively, use d4rl.qlearning_dataset which\n",
        "# also adds next_observations.\n",
        "dataset = d4rl.qlearning_dataset(env)"
      ],
      "metadata": {
        "colab": {
          "base_uri": "https://localhost:8080/"
        },
        "id": "d1tbeKGAQKzj",
        "outputId": "f723fa50-4e8e-4cec-b776-22a0a2703627"
      },
      "execution_count": 3,
      "outputs": [
        {
          "output_type": "stream",
          "name": "stderr",
          "text": [
            "Warning: Flow failed to import. Set the environment variable D4RL_SUPPRESS_IMPORT_ERROR=1 to suppress this message.\n",
            "No module named 'flow'\n",
            "/usr/local/lib/python3.10/dist-packages/glfw/__init__.py:916: GLFWError: (65544) b'X11: The DISPLAY environment variable is missing'\n",
            "  warnings.warn(message, GLFWError)\n",
            "Warning: CARLA failed to import. Set the environment variable D4RL_SUPPRESS_IMPORT_ERROR=1 to suppress this message.\n",
            "No module named 'carla'\n",
            "/usr/local/lib/python3.10/dist-packages/gym/utils/seeding.py:38: DeprecationWarning: \u001b[33mWARN: Function `rng.randn(*size)` is marked as deprecated and will be removed in the future. Please use `rng.standard_normal(size)` instead.\u001b[0m\n",
            "  deprecation(\n"
          ]
        },
        {
          "output_type": "stream",
          "name": "stdout",
          "text": [
            "Downloading dataset: http://rail.eecs.berkeley.edu/datasets/offline_rl/maze2d/maze2d-umaze-sparse-v1.hdf5 to /root/.d4rl/datasets/maze2d-umaze-sparse-v1.hdf5\n"
          ]
        },
        {
          "output_type": "stream",
          "name": "stderr",
          "text": [
            "load datafile: 100%|██████████| 8/8 [00:00<00:00, 22.68it/s]\n"
          ]
        },
        {
          "output_type": "stream",
          "name": "stdout",
          "text": [
            "[[ 1.0856489   1.9745734   0.00981035  0.02174424]\n",
            " [ 1.0843927   1.97413    -0.12562364 -0.04433781]\n",
            " [ 1.0807577   1.9752754  -0.3634883   0.11453988]\n",
            " ...\n",
            " [ 1.1328583   2.8062387  -4.484303    0.09555068]\n",
            " [ 1.0883482   2.8068895  -4.4510083   0.06509537]\n",
            " [ 1.0463258   2.8074222  -4.202244    0.05324839]]\n"
          ]
        },
        {
          "output_type": "stream",
          "name": "stderr",
          "text": [
            "load datafile: 100%|██████████| 8/8 [00:00<00:00, 21.92it/s]\n"
          ]
        }
      ]
    },
    {
      "cell_type": "code",
      "source": [],
      "metadata": {
        "id": "cxblbZkJafmG",
        "colab": {
          "base_uri": "https://localhost:8080/"
        },
        "outputId": "c4c09417-1ce7-4076-e17a-ea65b926179c"
      },
      "execution_count": 3,
      "outputs": [
        {
          "output_type": "stream",
          "name": "stderr",
          "text": [
            "/usr/local/lib/python3.10/dist-packages/ipykernel/ipkernel.py:283: DeprecationWarning: `should_run_async` will not call `transform_cell` automatically in the future. Please pass the result to `transformed_cell` argument and any exception that happen during thetransform in `preprocessing_exc_tuple` in IPython 7.17 and above.\n",
            "  and should_run_async(code)\n"
          ]
        }
      ]
    },
    {
      "cell_type": "markdown",
      "source": [
        "# Preliminaries"
      ],
      "metadata": {
        "id": "PVQ0Nyj9q3-H"
      }
    },
    {
      "cell_type": "markdown",
      "source": [
        "I would like to give credit to the Tinkoff Lab team as I massively (almost entirely) rely on code of the amazing CORL library, which incredibly helped me to understand the methods and their implementation."
      ],
      "metadata": {
        "id": "CZ0nJ5niwKbj"
      }
    },
    {
      "cell_type": "markdown",
      "source": [
        "## Methods chosen\n",
        "\n",
        "I have chosen papers *Offline Reinforcement Learning with Implicit Q-Learning* and *Conservative Q-Learning for Offline Reinforcement Learning* for several reasons.\n",
        "\n",
        "* First reason is the concept of Q-learning being ubiquitous. But it turns out that it performs poorly when applied to Offline Reinforcement learning problems due to an impact of out-of-distribution actions. Thus, I was excited to learn what modifications are needed so that this method could be implemented in the Offline RL field.\n",
        "\n",
        "* Secondly, methods both belong to the class referred to as \"multi-step\", meaning that they can display good performance in tasks that require combining parts of suboptimal policies into the optimal one. I find it important as real-world problems often produce datasets that are corrupted by suboptimal actions. I personally do not compare chosen methods to the \"single-step\" ones due to the computational limitations, but quantitative results on maze tasks from both IQL and CQL papers prove the aforementioned point.\n",
        "\n",
        "* Finally, both methods avoid querying the out-of-distribution (OOD) actions, thus making it possible to train models apart from the environment.\n",
        "\n",
        "As it turned out, IQL method was quite easy to understand and I really did enjoy exploring it. However, CQL was quite complicated, but I managed to make it more clear for myself and implemented it using CORL."
      ],
      "metadata": {
        "id": "BmSC6qrwEz5H"
      }
    },
    {
      "cell_type": "markdown",
      "source": [
        "## Datasets chosen\n",
        "\n",
        "For the sake of comparing methods on different kinds of problems, I use 3 datasets: *halfcheetah-medium-v2*, *halfcheetah-medium-expert-v2*, *antmaze-umaze-v0*.\n",
        "\n",
        "The first one is bound to test methods on a simple dataset that contains a significant fraction of near-optimal policies.\n",
        "\n",
        "The second one presents a mixed-distribution dataset, so that the CQL method should perform better on it.\n",
        "\n",
        "The last one gives an example of a dataset that is heavily corrupted by suboptimal actions. Its purpose is to show the importance of using multi-step methods."
      ],
      "metadata": {
        "id": "eruQlnRGKqJm"
      }
    },
    {
      "cell_type": "markdown",
      "source": [
        "# Experiments"
      ],
      "metadata": {
        "id": "v7RK6rvmGu8z"
      }
    },
    {
      "cell_type": "markdown",
      "source": [
        "## Preparation"
      ],
      "metadata": {
        "id": "NEG2M3Ani2ks"
      }
    },
    {
      "cell_type": "markdown",
      "source": [
        "Firstly, I prepare necessary code and constants:"
      ],
      "metadata": {
        "id": "5YBAqGYGMLkJ"
      }
    },
    {
      "cell_type": "code",
      "source": [
        "import torch\n",
        "\n",
        "from iql import *\n",
        "from cql import *\n",
        "from eval import *\n",
        "from data import *\n",
        "from utils import *\n",
        "from module import *\n",
        "from q_func import *\n",
        "from v_func import *\n",
        "from policy import *\n",
        "\n",
        "import numpy as np\n",
        "import matplotlib.pyplot as plt\n",
        "import seaborn as sns\n",
        "sns.set(font_scale=1.2)"
      ],
      "metadata": {
        "id": "K8yx_WH7dS7v"
      },
      "execution_count": 5,
      "outputs": []
    },
    {
      "cell_type": "code",
      "source": [
        "# General\n",
        "buffer_size = int(2e6)\n",
        "discount = 0.99\n",
        "tau = 0.005\n",
        "batch_size = 256\n",
        "eval_freq = int(5e3)\n",
        "n_episodes = 10\n",
        "n_iter = 10\n",
        "alpha = 0.8 # confidence level\n",
        "max_timesteps = int(1e5)\n",
        "device = 'cuda' if torch.cuda.is_available() else 'cpu'\n",
        "\n",
        "#IQL\n",
        "beta = 3.0\n",
        "iql_tau = 0.7\n",
        "\n",
        "#CQL\n",
        "orthogonal_init = True\n",
        "qf_lr = 3e-4\n",
        "policy_lr = 3e-5\n",
        "\n",
        "alpha_multiplier = 1.0\n",
        "bc_steps = 0\n",
        "target_update_period = 1\n",
        "\n",
        "cql_n_actions = 10\n",
        "cql_target_action_gap = -1.0\n",
        "cql_temp = 1.0\n",
        "\n",
        "cql_min_q_weight = 10.0\n",
        "cql_clip_diff_min: float = -np.inf\n",
        "cql_clip_diff_max: float = np.inf "
      ],
      "metadata": {
        "colab": {
          "base_uri": "https://localhost:8080/"
        },
        "id": "YebD9ZmndP0U",
        "outputId": "40c3cdeb-5f9c-4dc6-b803-48f532c8d257"
      },
      "execution_count": 6,
      "outputs": [
        {
          "output_type": "stream",
          "name": "stderr",
          "text": [
            "/usr/local/lib/python3.10/dist-packages/ipykernel/ipkernel.py:283: DeprecationWarning: `should_run_async` will not call `transform_cell` automatically in the future. Please pass the result to `transformed_cell` argument and any exception that happen during thetransform in `preprocessing_exc_tuple` in IPython 7.17 and above.\n",
            "  and should_run_async(code)\n"
          ]
        }
      ]
    },
    {
      "cell_type": "markdown",
      "source": [
        "Now let's define a function for visualizing the results:"
      ],
      "metadata": {
        "id": "zqr6vyfJMSrY"
      }
    },
    {
      "cell_type": "code",
      "source": [
        "def plot_experiment_results(\n",
        "    first_results, first_paper_res, first_name, \n",
        "    second_results, second_paper_res, second_name\n",
        "  ):\n",
        "  plt.figure(figsize=(10, 7))\n",
        "\n",
        "  plt.plot(np.arange(len(first_results)) * eval_freq, first_results[:, 1], label=f'Average score for {first_name}')\n",
        "  plt.fill_between(np.arange(len(first_results))* eval_freq, first_results[:, 0], first_results[:, 2], alpha=0.2)\n",
        "  plt.axhline(first_paper_res, linestyle='--', label=f'Paper result for {first_name}', c='red')\n",
        "\n",
        "  plt.plot(np.arange(len(second_results))* eval_freq, second_results[:, 1], label=f'Average score for {second_name}')\n",
        "  plt.fill_between(np.arange(len(second_results))* eval_freq, second_results[:, 0], second_results[:, 2], alpha=0.2)\n",
        "  plt.axhline(second_paper_res, linestyle='--', label=f'Paper result for {second_name}', c='green')\n",
        "\n",
        "  plt.title(\"Comparison of two methods\")\n",
        "  plt.legend()\n",
        "  plt.show()"
      ],
      "metadata": {
        "id": "d0cWdunNc0fk"
      },
      "execution_count": 7,
      "outputs": []
    },
    {
      "cell_type": "markdown",
      "source": [
        "## IQL vs CQL in halfcheetah-medium-v2 environment"
      ],
      "metadata": {
        "id": "95lz0ctHcHQ6"
      }
    },
    {
      "cell_type": "markdown",
      "source": [
        "Firstly, I would like to apply both methods in quite simple environment, where datasets contains a significant fraction of near-optimal trajectories, thus getting rid of the need to combine different policies to get the optimal one.\n",
        "\n",
        "Hyperparameters are consistent with the ones presented in papers, evaluation is performed on 10 episodes."
      ],
      "metadata": {
        "id": "eHDUGQLZe4_1"
      }
    },
    {
      "cell_type": "markdown",
      "source": [
        "### Data preparation:"
      ],
      "metadata": {
        "id": "sUhqFjX2d3NF"
      }
    },
    {
      "cell_type": "code",
      "source": [
        "env_name = \"halfcheetah-medium-v2\"\n",
        "\n",
        "env = gym.make(env_name)\n",
        "state_dim = env.observation_space.shape[0]\n",
        "action_dim = env.action_space.shape[0]\n",
        "\n",
        "dataset = d4rl.qlearning_dataset(env)\n",
        "state_mean, state_std = compute_mean_std(dataset[\"observations\"], eps=1e-3)\n",
        "\n",
        "dataset[\"observations\"] = normalize_states(\n",
        "    dataset[\"observations\"], state_mean, state_std\n",
        ")\n",
        "dataset[\"next_observations\"] = normalize_states(\n",
        "    dataset[\"next_observations\"], state_mean, state_std\n",
        ")\n",
        "env = wrap_env(env, state_mean=state_mean, state_std=state_std)\n",
        "\n",
        "replay_buffer = ReplayBuffer(\n",
        "    state_dim,\n",
        "    action_dim,\n",
        "    buffer_size,\n",
        "    device,\n",
        ")\n",
        "replay_buffer.load_d4rl_dataset(dataset)\n",
        "\n",
        "max_action = float(env.action_space.high[0])\n",
        "seed = 0\n",
        "set_seed(seed, env)"
      ],
      "metadata": {
        "colab": {
          "base_uri": "https://localhost:8080/"
        },
        "id": "nG8lBc4Sd7XV",
        "outputId": "f4647788-764d-47f1-bb4e-0e324de84e96"
      },
      "execution_count": null,
      "outputs": [
        {
          "output_type": "stream",
          "name": "stderr",
          "text": [
            "/usr/local/lib/python3.10/dist-packages/gym/spaces/box.py:84: UserWarning: \u001b[33mWARN: Box bound precision lowered by casting to float32\u001b[0m\n",
            "  logger.warn(f\"Box bound precision lowered by casting to {self.dtype}\")\n"
          ]
        },
        {
          "output_type": "stream",
          "name": "stdout",
          "text": [
            "Downloading dataset: http://rail.eecs.berkeley.edu/datasets/offline_rl/gym_mujoco_v2/halfcheetah_medium-v2.hdf5 to /root/.d4rl/datasets/halfcheetah_medium-v2.hdf5\n"
          ]
        },
        {
          "output_type": "stream",
          "name": "stderr",
          "text": [
            "load datafile: 100%|██████████| 21/21 [00:05<00:00,  3.75it/s]\n"
          ]
        },
        {
          "output_type": "stream",
          "name": "stdout",
          "text": [
            "Dataset size: 999000\n"
          ]
        },
        {
          "output_type": "stream",
          "name": "stderr",
          "text": [
            "/usr/local/lib/python3.10/dist-packages/gym/core.py:172: DeprecationWarning: \u001b[33mWARN: Function `env.seed(seed)` is marked as deprecated and will be removed in the future. Please use `env.reset(seed=seed) instead.\u001b[0m\n",
            "  deprecation(\n"
          ]
        }
      ]
    },
    {
      "cell_type": "markdown",
      "source": [
        "### IQL initialization:"
      ],
      "metadata": {
        "id": "iz1adC_4eABG"
      }
    },
    {
      "cell_type": "code",
      "source": [
        "q_network = TwinQ(state_dim, action_dim).to(device)\n",
        "v_network = ValueFunction(state_dim).to(device)\n",
        "iql_actor = GaussianPolicy(state_dim, action_dim, max_action).to(device)\n",
        "\n",
        "v_optimizer = torch.optim.Adam(v_network.parameters(), lr=3e-4)\n",
        "q_optimizer = torch.optim.Adam(q_network.parameters(), lr=3e-4)\n",
        "iql_actor_optimizer = torch.optim.Adam(iql_actor.parameters(), lr=3e-4)\n",
        "\n",
        "iql_kwargs = {\n",
        "  \"max_action\": max_action,\n",
        "  \"actor\": iql_actor,\n",
        "  \"actor_optimizer\": iql_actor_optimizer,\n",
        "  \"q_network\": q_network,\n",
        "  \"q_optimizer\": q_optimizer,\n",
        "  \"v_network\": v_network,\n",
        "  \"v_optimizer\": v_optimizer,\n",
        "  \"discount\": discount,\n",
        "  \"tau\": tau,\n",
        "  \"device\": device,\n",
        "  \"beta\": beta,\n",
        "  \"iql_tau\": iql_tau,\n",
        "  \"max_steps\": max_timesteps,\n",
        "}"
      ],
      "metadata": {
        "id": "rQUAluUmeIin"
      },
      "execution_count": null,
      "outputs": []
    },
    {
      "cell_type": "markdown",
      "source": [
        "### CQL initialization:"
      ],
      "metadata": {
        "id": "mLHYN9B3eLl0"
      }
    },
    {
      "cell_type": "code",
      "source": [
        "critic_1 = FullyConnectedQFunction(state_dim, action_dim, orthogonal_init).to(device)\n",
        "critic_2 = FullyConnectedQFunction(state_dim, action_dim, orthogonal_init).to(device)\n",
        "cql_actor = TanhGaussianPolicy(\n",
        "    state_dim, action_dim, max_action, orthogonal_init=orthogonal_init\n",
        ").to(device)\n",
        "\n",
        "critic_1_optimizer = torch.optim.Adam(list(critic_1.parameters()), qf_lr)\n",
        "critic_2_optimizer = torch.optim.Adam(list(critic_2.parameters()), qf_lr)\n",
        "cql_actor_optimizer = torch.optim.Adam(cql_actor.parameters(), policy_lr)\n",
        "\n",
        "cql_kwargs = {\n",
        "      \"critic_1\": critic_1,\n",
        "      \"critic_2\": critic_2,\n",
        "      \"critic_1_optimizer\": critic_1_optimizer,\n",
        "      \"critic_2_optimizer\": critic_2_optimizer,\n",
        "      \"actor\": cql_actor,\n",
        "      \"actor_optimizer\": cql_actor_optimizer,\n",
        "      \"discount\": discount,\n",
        "      \"soft_target_update_rate\": tau,\n",
        "      \"device\": device,\n",
        "      \"target_entropy\": -np.prod(env.action_space.shape).item(),\n",
        "      \"alpha_multiplier\": alpha_multiplier,\n",
        "      \"use_automatic_entropy_tuning\": True,\n",
        "      \"backup_entropy\": False,\n",
        "      \"policy_lr\": policy_lr,\n",
        "      \"qf_lr\": qf_lr,\n",
        "      \"bc_steps\": bc_steps,\n",
        "      \"target_update_period\": target_update_period,\n",
        "      \"cql_n_actions\": cql_n_actions,\n",
        "      \"cql_importance_sample\": True,\n",
        "      \"cql_lagrange\": False,\n",
        "      \"cql_target_action_gap\": cql_target_action_gap,\n",
        "      \"cql_temp\": cql_temp,\n",
        "      \"cql_min_q_weight\": cql_min_q_weight,\n",
        "      \"cql_max_target_backup\": False,\n",
        "      \"cql_clip_diff_min\": cql_clip_diff_min,\n",
        "      \"cql_clip_diff_max\": cql_clip_diff_max,\n",
        "  }"
      ],
      "metadata": {
        "id": "6HI-CE88_Ds7"
      },
      "execution_count": null,
      "outputs": []
    },
    {
      "cell_type": "markdown",
      "source": [
        "### Training:"
      ],
      "metadata": {
        "id": "qjugh8h0ePt-"
      }
    },
    {
      "cell_type": "code",
      "source": [
        "print(\"---------------------------------------\")\n",
        "print(f\"Training, Env: {env_name}, Seed: {seed}\")\n",
        "print(\"---------------------------------------\")\n",
        "\n",
        "iql_trainer = ImplicitQLearning(**iql_kwargs)\n",
        "cql_trainer = ContinuousCQL(**cql_kwargs)\n",
        "\n",
        "iql_evaluations = []\n",
        "cql_evaluations = []\n",
        "\n",
        "for t in range(int(max_timesteps)):\n",
        "    batch = replay_buffer.sample(batch_size)\n",
        "    batch = [b.to(device) for b in batch]\n",
        "    iql_trainer.train(batch)\n",
        "    cql_trainer.train(batch)\n",
        "    # Evaluate episode\n",
        "    if (t + 1) % eval_freq == 0:\n",
        "        print(f\"Time steps: {t + 1}\")\n",
        "        iql_eval_scores = eval_actor(\n",
        "            env,\n",
        "            iql_actor,\n",
        "            device=device,\n",
        "            n_episodes=n_episodes,\n",
        "            seed=seed,\n",
        "        )\n",
        "        iql_norm_scores = [env.get_normalized_score(score) * 100.0 for score in iql_eval_scores]\n",
        "        iql_left = np.quantile(iql_norm_scores, (1 - alpha) / 2)\n",
        "        iql_right = np.quantile(iql_norm_scores, (1 + alpha) / 2)\n",
        "        iql_evaluations.append((iql_left, np.mean(iql_norm_scores), iql_right))\n",
        "\n",
        "        cql_eval_scores = eval_actor(\n",
        "            env,\n",
        "            cql_actor,\n",
        "            device=device,\n",
        "            n_episodes=n_episodes,\n",
        "            seed=seed,\n",
        "        )\n",
        "        cql_norm_scores = [env.get_normalized_score(score) * 100.0 for score in cql_eval_scores]\n",
        "        cql_left = np.quantile(cql_norm_scores, (1 - alpha) / 2)\n",
        "        cql_right = np.quantile(cql_norm_scores, (1 + alpha) / 2)\n",
        "        cql_evaluations.append((cql_left, np.mean(cql_norm_scores), cql_right))\n",
        "        print(\"---------------------------------------\")\n",
        "        print(\n",
        "            f\"Evaluation over {n_episodes} episodes: \"\n",
        "            f\"IQL score: {np.mean(iql_norm_scores):.3f}, \"\n",
        "            f\"CQL score: {np.mean(cql_norm_scores):.3f}\"\n",
        "        )\n",
        "        print(\"---------------------------------------\")"
      ],
      "metadata": {
        "colab": {
          "base_uri": "https://localhost:8080/"
        },
        "id": "7KZfvXr-d1A6",
        "outputId": "5d22781a-76d9-4c0b-e9c6-771e4eb344ff"
      },
      "execution_count": null,
      "outputs": [
        {
          "output_type": "stream",
          "name": "stdout",
          "text": [
            "---------------------------------------\n",
            "Training, Env: halfcheetah-medium-v2, Seed: 0\n",
            "---------------------------------------\n",
            "Time steps: 5000\n",
            "---------------------------------------\n",
            "Evaluation over 10 episodes: IQL score: 19.500, CQL score: 34.075\n",
            "---------------------------------------\n",
            "Time steps: 10000\n",
            "---------------------------------------\n",
            "Evaluation over 10 episodes: IQL score: 35.239, CQL score: 43.178\n",
            "---------------------------------------\n",
            "Time steps: 15000\n",
            "---------------------------------------\n",
            "Evaluation over 10 episodes: IQL score: 37.003, CQL score: 44.511\n",
            "---------------------------------------\n",
            "Time steps: 20000\n",
            "---------------------------------------\n",
            "Evaluation over 10 episodes: IQL score: 43.540, CQL score: 44.401\n",
            "---------------------------------------\n",
            "Time steps: 25000\n",
            "---------------------------------------\n",
            "Evaluation over 10 episodes: IQL score: 38.162, CQL score: 44.343\n",
            "---------------------------------------\n",
            "Time steps: 30000\n",
            "---------------------------------------\n",
            "Evaluation over 10 episodes: IQL score: 44.136, CQL score: 45.376\n",
            "---------------------------------------\n",
            "Time steps: 35000\n",
            "---------------------------------------\n",
            "Evaluation over 10 episodes: IQL score: 44.606, CQL score: 45.442\n",
            "---------------------------------------\n",
            "Time steps: 40000\n",
            "---------------------------------------\n",
            "Evaluation over 10 episodes: IQL score: 44.715, CQL score: 45.240\n",
            "---------------------------------------\n",
            "Time steps: 45000\n",
            "---------------------------------------\n",
            "Evaluation over 10 episodes: IQL score: 44.966, CQL score: 45.124\n",
            "---------------------------------------\n",
            "Time steps: 50000\n",
            "---------------------------------------\n",
            "Evaluation over 10 episodes: IQL score: 45.875, CQL score: 45.758\n",
            "---------------------------------------\n",
            "Time steps: 55000\n",
            "---------------------------------------\n",
            "Evaluation over 10 episodes: IQL score: 45.831, CQL score: 45.657\n",
            "---------------------------------------\n",
            "Time steps: 60000\n",
            "---------------------------------------\n",
            "Evaluation over 10 episodes: IQL score: 45.559, CQL score: 45.528\n",
            "---------------------------------------\n",
            "Time steps: 65000\n",
            "---------------------------------------\n",
            "Evaluation over 10 episodes: IQL score: 44.820, CQL score: 46.121\n",
            "---------------------------------------\n",
            "Time steps: 70000\n",
            "---------------------------------------\n",
            "Evaluation over 10 episodes: IQL score: 46.249, CQL score: 45.596\n",
            "---------------------------------------\n",
            "Time steps: 75000\n",
            "---------------------------------------\n",
            "Evaluation over 10 episodes: IQL score: 45.748, CQL score: 45.846\n",
            "---------------------------------------\n",
            "Time steps: 80000\n",
            "---------------------------------------\n",
            "Evaluation over 10 episodes: IQL score: 46.370, CQL score: 45.826\n",
            "---------------------------------------\n",
            "Time steps: 85000\n",
            "---------------------------------------\n",
            "Evaluation over 10 episodes: IQL score: 46.109, CQL score: 46.068\n",
            "---------------------------------------\n",
            "Time steps: 90000\n",
            "---------------------------------------\n",
            "Evaluation over 10 episodes: IQL score: 46.046, CQL score: 45.697\n",
            "---------------------------------------\n",
            "Time steps: 95000\n",
            "---------------------------------------\n",
            "Evaluation over 10 episodes: IQL score: 46.068, CQL score: 45.660\n",
            "---------------------------------------\n",
            "Time steps: 100000\n",
            "---------------------------------------\n",
            "Evaluation over 10 episodes: IQL score: 46.344, CQL score: 46.132\n",
            "---------------------------------------\n"
          ]
        }
      ]
    },
    {
      "cell_type": "markdown",
      "source": [
        "### Visualization"
      ],
      "metadata": {
        "id": "wNdgGMy2jS2p"
      }
    },
    {
      "cell_type": "code",
      "source": [
        "plot_experiment_results(\n",
        "  np.array([(0, 0, 0)] + iql_evaluations), 47.4, \"IQL\",\n",
        "  np.array([(0, 0, 0)] + cql_evaluations), 44.0, \"CQL\",\n",
        ")"
      ],
      "metadata": {
        "colab": {
          "base_uri": "https://localhost:8080/",
          "height": 630
        },
        "id": "R6-nv0kbjRjj",
        "outputId": "2c7b9bdb-8733-44a5-b2fc-27374705b671"
      },
      "execution_count": null,
      "outputs": [
        {
          "output_type": "display_data",
          "data": {
            "text/plain": [
              "<Figure size 1000x700 with 1 Axes>"
            ],
            "image/png": "[encoded data removed]"
          },
          "metadata": {}
        }
      ]
    },
    {
      "cell_type": "markdown",
      "source": [
        "Unforunately, the paper result for IQL wan't reached. However, CQL has even beaten the proposed score.\n",
        "\n",
        "The plot depicts that IQL achieves better results in this case. However, its confidence interval is quite wide at the beggining, and the CQL method seems more stable. So there is a trade-off between performance when trained for less iterations and the final result. And choice of method depends on the specific task."
      ],
      "metadata": {
        "id": "GU2Pwm069nOY"
      }
    },
    {
      "cell_type": "markdown",
      "source": [
        "## IQL vs CQL in halfcheetah-medium-expert-v2 environment"
      ],
      "metadata": {
        "id": "LFgXoN4UiVS4"
      }
    },
    {
      "cell_type": "markdown",
      "source": [
        "Authors of the CQL paper note that their method performs better when presented a dataset with mixed-distribution actions (such as halfcheetah-medium-expert-v2), which are known to be more common in Offline RL tasks.\n",
        "\n",
        "Therefore, I would like to compare methods on the dataset, keeping the parameters similar to the previous experiment."
      ],
      "metadata": {
        "id": "1gBwSLRziVTA"
      }
    },
    {
      "cell_type": "markdown",
      "source": [
        "### Data preparation:"
      ],
      "metadata": {
        "id": "1xi8r_AjiVTE"
      }
    },
    {
      "cell_type": "code",
      "source": [
        "env_name = \"halfcheetah-medium-expert-v2\"\n",
        "\n",
        "env = gym.make(env_name)\n",
        "state_dim = env.observation_space.shape[0]\n",
        "action_dim = env.action_space.shape[0]\n",
        "\n",
        "dataset = d4rl.qlearning_dataset(env)\n",
        "state_mean, state_std = compute_mean_std(dataset[\"observations\"], eps=1e-3)\n",
        "\n",
        "dataset[\"observations\"] = normalize_states(\n",
        "    dataset[\"observations\"], state_mean, state_std\n",
        ")\n",
        "dataset[\"next_observations\"] = normalize_states(\n",
        "    dataset[\"next_observations\"], state_mean, state_std\n",
        ")\n",
        "env = wrap_env(env, state_mean=state_mean, state_std=state_std)\n",
        "\n",
        "replay_buffer = ReplayBuffer(\n",
        "    state_dim,\n",
        "    action_dim,\n",
        "    buffer_size,\n",
        "    device,\n",
        ")\n",
        "replay_buffer.load_d4rl_dataset(dataset)\n",
        "\n",
        "max_action = float(env.action_space.high[0])\n",
        "seed = 0\n",
        "set_seed(seed, env)"
      ],
      "metadata": {
        "colab": {
          "base_uri": "https://localhost:8080/"
        },
        "id": "riiuiMxbiVTJ",
        "outputId": "9284679e-49f3-4ed7-91c9-fafa974b118e"
      },
      "execution_count": null,
      "outputs": [
        {
          "output_type": "stream",
          "name": "stderr",
          "text": [
            "/usr/local/lib/python3.10/dist-packages/gym/spaces/box.py:84: UserWarning: \u001b[33mWARN: Box bound precision lowered by casting to float32\u001b[0m\n",
            "  logger.warn(f\"Box bound precision lowered by casting to {self.dtype}\")\n"
          ]
        },
        {
          "output_type": "stream",
          "name": "stdout",
          "text": [
            "Downloading dataset: http://rail.eecs.berkeley.edu/datasets/offline_rl/gym_mujoco_v2/halfcheetah_medium_expert-v2.hdf5 to /root/.d4rl/datasets/halfcheetah_medium_expert-v2.hdf5\n"
          ]
        },
        {
          "output_type": "stream",
          "name": "stderr",
          "text": [
            "load datafile: 100%|██████████| 9/9 [00:05<00:00,  1.51it/s]\n"
          ]
        },
        {
          "output_type": "stream",
          "name": "stdout",
          "text": [
            "Dataset size: 1998000\n"
          ]
        },
        {
          "output_type": "stream",
          "name": "stderr",
          "text": [
            "/usr/local/lib/python3.10/dist-packages/gym/core.py:172: DeprecationWarning: \u001b[33mWARN: Function `env.seed(seed)` is marked as deprecated and will be removed in the future. Please use `env.reset(seed=seed) instead.\u001b[0m\n",
            "  deprecation(\n"
          ]
        }
      ]
    },
    {
      "cell_type": "markdown",
      "source": [
        "### IQL initialization:"
      ],
      "metadata": {
        "id": "A0Cxk1cpiVTR"
      }
    },
    {
      "cell_type": "code",
      "source": [
        "q_network = TwinQ(state_dim, action_dim).to(device)\n",
        "v_network = ValueFunction(state_dim).to(device)\n",
        "iql_actor = GaussianPolicy(state_dim, action_dim, max_action).to(device)\n",
        "\n",
        "v_optimizer = torch.optim.Adam(v_network.parameters(), lr=3e-4)\n",
        "q_optimizer = torch.optim.Adam(q_network.parameters(), lr=3e-4)\n",
        "iql_actor_optimizer = torch.optim.Adam(iql_actor.parameters(), lr=3e-4)\n",
        "\n",
        "iql_kwargs = {\n",
        "  \"max_action\": max_action,\n",
        "  \"actor\": iql_actor,\n",
        "  \"actor_optimizer\": iql_actor_optimizer,\n",
        "  \"q_network\": q_network,\n",
        "  \"q_optimizer\": q_optimizer,\n",
        "  \"v_network\": v_network,\n",
        "  \"v_optimizer\": v_optimizer,\n",
        "  \"discount\": discount,\n",
        "  \"tau\": tau,\n",
        "  \"device\": device,\n",
        "  \"beta\": beta,\n",
        "  \"iql_tau\": iql_tau,\n",
        "  \"max_steps\": max_timesteps,\n",
        "}"
      ],
      "metadata": {
        "id": "sK7wUjPeiVTU"
      },
      "execution_count": null,
      "outputs": []
    },
    {
      "cell_type": "markdown",
      "source": [
        "### CQL initialization:"
      ],
      "metadata": {
        "id": "yhoNe1DWiVTX"
      }
    },
    {
      "cell_type": "code",
      "source": [
        "critic_1 = FullyConnectedQFunction(state_dim, action_dim, orthogonal_init).to(device)\n",
        "critic_2 = FullyConnectedQFunction(state_dim, action_dim, orthogonal_init).to(device)\n",
        "cql_actor = TanhGaussianPolicy(\n",
        "    state_dim, action_dim, max_action, orthogonal_init=orthogonal_init\n",
        ").to(device)\n",
        "\n",
        "critic_1_optimizer = torch.optim.Adam(list(critic_1.parameters()), qf_lr)\n",
        "critic_2_optimizer = torch.optim.Adam(list(critic_2.parameters()), qf_lr)\n",
        "cql_actor_optimizer = torch.optim.Adam(cql_actor.parameters(), policy_lr)\n",
        "\n",
        "cql_kwargs = {\n",
        "      \"critic_1\": critic_1,\n",
        "      \"critic_2\": critic_2,\n",
        "      \"critic_1_optimizer\": critic_1_optimizer,\n",
        "      \"critic_2_optimizer\": critic_2_optimizer,\n",
        "      \"actor\": cql_actor,\n",
        "      \"actor_optimizer\": cql_actor_optimizer,\n",
        "      \"discount\": discount,\n",
        "      \"soft_target_update_rate\": tau,\n",
        "      \"device\": device,\n",
        "      \"target_entropy\": -np.prod(env.action_space.shape).item(),\n",
        "      \"alpha_multiplier\": alpha_multiplier,\n",
        "      \"use_automatic_entropy_tuning\": True,\n",
        "      \"backup_entropy\": False,\n",
        "      \"policy_lr\": policy_lr,\n",
        "      \"qf_lr\": qf_lr,\n",
        "      \"bc_steps\": bc_steps,\n",
        "      \"target_update_period\": target_update_period,\n",
        "      \"cql_n_actions\": cql_n_actions,\n",
        "      \"cql_importance_sample\": True,\n",
        "      \"cql_lagrange\": False,\n",
        "      \"cql_target_action_gap\": cql_target_action_gap,\n",
        "      \"cql_temp\": cql_temp,\n",
        "      \"cql_min_q_weight\": cql_min_q_weight,\n",
        "      \"cql_max_target_backup\": False,\n",
        "      \"cql_clip_diff_min\": cql_clip_diff_min,\n",
        "      \"cql_clip_diff_max\": cql_clip_diff_max,\n",
        "  }"
      ],
      "metadata": {
        "id": "gALAcU1yiVTY"
      },
      "execution_count": null,
      "outputs": []
    },
    {
      "cell_type": "markdown",
      "source": [
        "### Training:"
      ],
      "metadata": {
        "id": "KRNcKF9JiVTc"
      }
    },
    {
      "cell_type": "code",
      "source": [
        "print(\"---------------------------------------\")\n",
        "print(f\"Training, Env: {env_name}, Seed: {seed}\")\n",
        "print(\"---------------------------------------\")\n",
        "\n",
        "iql_trainer = ImplicitQLearning(**iql_kwargs)\n",
        "cql_trainer = ContinuousCQL(**cql_kwargs)\n",
        "\n",
        "iql_evaluations = []\n",
        "cql_evaluations = []\n",
        "\n",
        "for t in range(int(max_timesteps)):\n",
        "    batch = replay_buffer.sample(batch_size)\n",
        "    batch = [b.to(device) for b in batch]\n",
        "    iql_trainer.train(batch)\n",
        "    cql_trainer.train(batch)\n",
        "    # Evaluate episode\n",
        "    if (t + 1) % eval_freq == 0:\n",
        "        print(f\"Time steps: {t + 1}\")\n",
        "        iql_eval_scores = eval_actor(\n",
        "            env,\n",
        "            iql_actor,\n",
        "            device=device,\n",
        "            n_episodes=n_episodes,\n",
        "            seed=seed,\n",
        "        )\n",
        "        iql_norm_scores = [env.get_normalized_score(score) * 100.0 for score in iql_eval_scores]\n",
        "        iql_left = np.quantile(iql_norm_scores, (1 - alpha) / 2)\n",
        "        iql_right = np.quantile(iql_norm_scores, (1 + alpha) / 2)\n",
        "        iql_evaluations.append((iql_left, np.mean(iql_norm_scores), iql_right))\n",
        "\n",
        "        cql_eval_scores = eval_actor(\n",
        "            env,\n",
        "            cql_actor,\n",
        "            device=device,\n",
        "            n_episodes=n_episodes,\n",
        "            seed=seed,\n",
        "        )\n",
        "        cql_norm_scores = [env.get_normalized_score(score) * 100.0 for score in cql_eval_scores]\n",
        "        cql_left = np.quantile(cql_norm_scores, (1 - alpha) / 2)\n",
        "        cql_right = np.quantile(cql_norm_scores, (1 + alpha) / 2)\n",
        "        cql_evaluations.append((cql_left, np.mean(cql_norm_scores), cql_right))\n",
        "        print(\"---------------------------------------\")\n",
        "        print(\n",
        "            f\"Evaluation over {n_episodes} episodes: \"\n",
        "            f\"IQL score: {np.mean(iql_norm_scores):.3f}, \"\n",
        "            f\"CQL score: {np.mean(cql_norm_scores):.3f}\"\n",
        "        )\n",
        "        print(\"---------------------------------------\")"
      ],
      "metadata": {
        "colab": {
          "base_uri": "https://localhost:8080/"
        },
        "id": "uuXmNMzriVTc",
        "outputId": "e05f342f-12bb-48be-e9dd-48cffd73a4c9"
      },
      "execution_count": null,
      "outputs": [
        {
          "output_type": "stream",
          "name": "stdout",
          "text": [
            "---------------------------------------\n",
            "Training, Env: halfcheetah-medium-expert-v2, Seed: 0\n",
            "---------------------------------------\n",
            "Time steps: 5000\n",
            "---------------------------------------\n",
            "Evaluation over 10 episodes: IQL score: 25.691, CQL score: 24.760\n",
            "---------------------------------------\n",
            "Time steps: 10000\n",
            "---------------------------------------\n",
            "Evaluation over 10 episodes: IQL score: 27.905, CQL score: 38.675\n",
            "---------------------------------------\n",
            "Time steps: 15000\n",
            "---------------------------------------\n",
            "Evaluation over 10 episodes: IQL score: 38.873, CQL score: 31.187\n",
            "---------------------------------------\n",
            "Time steps: 20000\n",
            "---------------------------------------\n",
            "Evaluation over 10 episodes: IQL score: 34.536, CQL score: 23.821\n",
            "---------------------------------------\n",
            "Time steps: 25000\n",
            "---------------------------------------\n",
            "Evaluation over 10 episodes: IQL score: 38.653, CQL score: 23.858\n",
            "---------------------------------------\n",
            "Time steps: 30000\n",
            "---------------------------------------\n",
            "Evaluation over 10 episodes: IQL score: 44.641, CQL score: 19.063\n",
            "---------------------------------------\n",
            "Time steps: 35000\n",
            "---------------------------------------\n",
            "Evaluation over 10 episodes: IQL score: 36.832, CQL score: 28.145\n",
            "---------------------------------------\n",
            "Time steps: 40000\n",
            "---------------------------------------\n",
            "Evaluation over 10 episodes: IQL score: 55.791, CQL score: 26.240\n",
            "---------------------------------------\n",
            "Time steps: 45000\n",
            "---------------------------------------\n",
            "Evaluation over 10 episodes: IQL score: 53.283, CQL score: 35.915\n",
            "---------------------------------------\n",
            "Time steps: 50000\n",
            "---------------------------------------\n",
            "Evaluation over 10 episodes: IQL score: 52.996, CQL score: 38.510\n",
            "---------------------------------------\n",
            "Time steps: 55000\n",
            "---------------------------------------\n",
            "Evaluation over 10 episodes: IQL score: 60.800, CQL score: 39.508\n",
            "---------------------------------------\n",
            "Time steps: 60000\n",
            "---------------------------------------\n",
            "Evaluation over 10 episodes: IQL score: 54.548, CQL score: 26.957\n",
            "---------------------------------------\n",
            "Time steps: 65000\n",
            "---------------------------------------\n",
            "Evaluation over 10 episodes: IQL score: 57.399, CQL score: 37.080\n",
            "---------------------------------------\n",
            "Time steps: 70000\n",
            "---------------------------------------\n",
            "Evaluation over 10 episodes: IQL score: 47.707, CQL score: 35.579\n",
            "---------------------------------------\n",
            "Time steps: 75000\n",
            "---------------------------------------\n",
            "Evaluation over 10 episodes: IQL score: 50.066, CQL score: 40.523\n",
            "---------------------------------------\n",
            "Time steps: 80000\n",
            "---------------------------------------\n",
            "Evaluation over 10 episodes: IQL score: 55.746, CQL score: 46.339\n",
            "---------------------------------------\n",
            "Time steps: 85000\n",
            "---------------------------------------\n",
            "Evaluation over 10 episodes: IQL score: 58.318, CQL score: 54.788\n",
            "---------------------------------------\n",
            "Time steps: 90000\n",
            "---------------------------------------\n",
            "Evaluation over 10 episodes: IQL score: 61.197, CQL score: 60.390\n",
            "---------------------------------------\n",
            "Time steps: 95000\n",
            "---------------------------------------\n",
            "Evaluation over 10 episodes: IQL score: 70.867, CQL score: 49.124\n",
            "---------------------------------------\n",
            "Time steps: 100000\n",
            "---------------------------------------\n",
            "Evaluation over 10 episodes: IQL score: 48.605, CQL score: 42.316\n",
            "---------------------------------------\n"
          ]
        }
      ]
    },
    {
      "cell_type": "markdown",
      "source": [
        "### Visualization"
      ],
      "metadata": {
        "id": "cJIUGWl1temf"
      }
    },
    {
      "cell_type": "code",
      "source": [
        "plot_experiment_results(\n",
        "  np.array([(0, 0, 0)] + iql_evaluations), 86.7, \"IQL\",\n",
        "  np.array([(0, 0, 0)] + cql_evaluations), 91.6, \"CQL\",\n",
        ")"
      ],
      "metadata": {
        "id": "a5wOxfcAtemh",
        "colab": {
          "base_uri": "https://localhost:8080/",
          "height": 630
        },
        "outputId": "8f218c0f-25e4-47b0-b390-c53c0990320d"
      },
      "execution_count": null,
      "outputs": [
        {
          "output_type": "display_data",
          "data": {
            "text/plain": [
              "<Figure size 1000x700 with 1 Axes>"
            ],
            "image/png": "[encoded data removed]"
          },
          "metadata": {}
        }
      ]
    },
    {
      "cell_type": "markdown",
      "source": [
        "Again, the number of iterations is insufficient. Previously computed experiments (that I have lost, unfortunately) were training for $2 \\times 10^{6}$ timesteps and showed the tendencies I was expecting: CQL really did perform better, proving the point from paper. I would be glad to repeat those experiments with different setup, as Google Colab has very strict limitations.\n",
        "\n",
        "Here we can make only some minor conclusions: CQL again showed to be more stable, as its confidence interval is a bit more narrow, than the IQL's one."
      ],
      "metadata": {
        "id": "HpBNRR_w7Vxx"
      }
    },
    {
      "cell_type": "markdown",
      "source": [
        "## IQL vs CQL in antmaze-umaze-v0 environment"
      ],
      "metadata": {
        "id": "hLrbjAT_iXlX"
      }
    },
    {
      "cell_type": "markdown",
      "source": [
        "IQL emphasizes combining both advantages from so-called single-step methods and multi-step dynamic programming, which tends to display better performance on datasets corrupted by suboptimal actions (such as maze tasks). Thus, I apply the method on complex antmaze-umaze-v0 problem, using the suggested parameters ($\\tau = 0.9$, $\\beta = 10$).\n",
        "\n",
        "CQL has also proven to display satisfactory results when it is necessary to combine optimal actions into an optimal policy. Hence, it is crucial to compare methods on this task and explore their advantages and disadvantages."
      ],
      "metadata": {
        "id": "8g1FtAuaiXlc"
      }
    },
    {
      "cell_type": "markdown",
      "source": [
        "### Data preparation:"
      ],
      "metadata": {
        "id": "-DIHM2GyiXld"
      }
    },
    {
      "cell_type": "code",
      "source": [
        "env_name = \"antmaze-umaze-v0\"\n",
        "\n",
        "env = gym.make(env_name)\n",
        "state_dim = env.observation_space.shape[0]\n",
        "action_dim = env.action_space.shape[0]\n",
        "\n",
        "dataset = d4rl.qlearning_dataset(env)\n",
        "state_mean, state_std = compute_mean_std(dataset[\"observations\"], eps=1e-3)\n",
        "\n",
        "dataset[\"observations\"] = normalize_states(\n",
        "    dataset[\"observations\"], state_mean, state_std\n",
        ")\n",
        "dataset[\"next_observations\"] = normalize_states(\n",
        "    dataset[\"next_observations\"], state_mean, state_std\n",
        ")\n",
        "env = wrap_env(env, state_mean=state_mean, state_std=state_std)\n",
        "\n",
        "replay_buffer = ReplayBuffer(\n",
        "    state_dim,\n",
        "    action_dim,\n",
        "    buffer_size,\n",
        "    device,\n",
        ")\n",
        "replay_buffer.load_d4rl_dataset(dataset)\n",
        "\n",
        "max_action = float(env.action_space.high[0])\n",
        "seed = 0\n",
        "set_seed(seed, env)"
      ],
      "metadata": {
        "id": "bYMVq41RiXlf",
        "colab": {
          "base_uri": "https://localhost:8080/"
        },
        "outputId": "3d1fc6d2-5d4e-460b-eaf2-96621ca9598f"
      },
      "execution_count": null,
      "outputs": [
        {
          "output_type": "stream",
          "name": "stderr",
          "text": [
            "/usr/local/lib/python3.10/dist-packages/gym/envs/registration.py:505: UserWarning: \u001b[33mWARN: The environment antmaze-umaze-v0 is out of date. You should consider upgrading to version `v2` with the environment ID `antmaze-umaze-v2`.\u001b[0m\n",
            "  logger.warn(\n",
            "/usr/local/lib/python3.10/dist-packages/d4rl/locomotion/ant.py:180: UserWarning: \u001b[33mThis environment is deprecated. Please use the most recent version of this environment.\u001b[0m\n",
            "  offline_env.OfflineEnv.__init__(self, **kwargs)\n"
          ]
        },
        {
          "output_type": "stream",
          "name": "stdout",
          "text": [
            "Target Goal:  (0.6082339487926485, 8.770568220655893)\n",
            "Downloading dataset: http://rail.eecs.berkeley.edu/datasets/offline_rl/ant_maze_new/Ant_maze_u-maze_noisy_multistart_False_multigoal_False_sparse.hdf5 to /root/.d4rl/datasets/Ant_maze_u-maze_noisy_multistart_False_multigoal_False_sparse.hdf5\n"
          ]
        },
        {
          "output_type": "stream",
          "name": "stderr",
          "text": [
            "load datafile: 100%|██████████| 8/8 [00:02<00:00,  3.48it/s]\n"
          ]
        },
        {
          "output_type": "stream",
          "name": "stdout",
          "text": [
            "Dataset size: 998573\n"
          ]
        }
      ]
    },
    {
      "cell_type": "markdown",
      "source": [
        "### IQL initialization:"
      ],
      "metadata": {
        "id": "ZupFnw5EiXlg"
      }
    },
    {
      "cell_type": "code",
      "source": [
        "q_network = TwinQ(state_dim, action_dim).to(device)\n",
        "v_network = ValueFunction(state_dim).to(device)\n",
        "iql_actor = GaussianPolicy(state_dim, action_dim, max_action).to(device)\n",
        "\n",
        "v_optimizer = torch.optim.Adam(v_network.parameters(), lr=3e-4)\n",
        "q_optimizer = torch.optim.Adam(q_network.parameters(), lr=3e-4)\n",
        "iql_actor_optimizer = torch.optim.Adam(iql_actor.parameters(), lr=3e-4)\n",
        "\n",
        "iql_kwargs = {\n",
        "  \"max_action\": max_action,\n",
        "  \"actor\": iql_actor,\n",
        "  \"actor_optimizer\": iql_actor_optimizer,\n",
        "  \"q_network\": q_network,\n",
        "  \"q_optimizer\": q_optimizer,\n",
        "  \"v_network\": v_network,\n",
        "  \"v_optimizer\": v_optimizer,\n",
        "  \"discount\": discount,\n",
        "  \"tau\": tau,\n",
        "  \"device\": device,\n",
        "  \"beta\": 10.0,\n",
        "  \"iql_tau\": 0.9,\n",
        "  \"max_steps\": max_timesteps,\n",
        "}"
      ],
      "metadata": {
        "id": "yP3sRxTriXli"
      },
      "execution_count": null,
      "outputs": []
    },
    {
      "cell_type": "markdown",
      "source": [
        "### CQL initialization:"
      ],
      "metadata": {
        "id": "fTag_iAtiXlj"
      }
    },
    {
      "cell_type": "code",
      "source": [
        "critic_1 = FullyConnectedQFunction(state_dim, action_dim, orthogonal_init).to(device)\n",
        "critic_2 = FullyConnectedQFunction(state_dim, action_dim, orthogonal_init).to(device)\n",
        "cql_actor = TanhGaussianPolicy(\n",
        "    state_dim, action_dim, max_action, orthogonal_init=orthogonal_init\n",
        ").to(device)\n",
        "\n",
        "critic_1_optimizer = torch.optim.Adam(list(critic_1.parameters()), qf_lr)\n",
        "critic_2_optimizer = torch.optim.Adam(list(critic_2.parameters()), qf_lr)\n",
        "cql_actor_optimizer = torch.optim.Adam(cql_actor.parameters(), policy_lr)\n",
        "\n",
        "cql_kwargs = {\n",
        "      \"critic_1\": critic_1,\n",
        "      \"critic_2\": critic_2,\n",
        "      \"critic_1_optimizer\": critic_1_optimizer,\n",
        "      \"critic_2_optimizer\": critic_2_optimizer,\n",
        "      \"actor\": cql_actor,\n",
        "      \"actor_optimizer\": cql_actor_optimizer,\n",
        "      \"discount\": discount,\n",
        "      \"soft_target_update_rate\": tau,\n",
        "      \"device\": device,\n",
        "      \"target_entropy\": -np.prod(env.action_space.shape).item(),\n",
        "      \"alpha_multiplier\": alpha_multiplier,\n",
        "      \"use_automatic_entropy_tuning\": True,\n",
        "      \"backup_entropy\": False,\n",
        "      \"policy_lr\": policy_lr,\n",
        "      \"qf_lr\": qf_lr,\n",
        "      \"bc_steps\": bc_steps,\n",
        "      \"target_update_period\": target_update_period,\n",
        "      \"cql_n_actions\": cql_n_actions,\n",
        "      \"cql_importance_sample\": True,\n",
        "      \"cql_lagrange\": False,\n",
        "      \"cql_target_action_gap\": cql_target_action_gap,\n",
        "      \"cql_temp\": cql_temp,\n",
        "      \"cql_min_q_weight\": cql_min_q_weight,\n",
        "      \"cql_max_target_backup\": False,\n",
        "      \"cql_clip_diff_min\": cql_clip_diff_min,\n",
        "      \"cql_clip_diff_max\": cql_clip_diff_max,\n",
        "  }"
      ],
      "metadata": {
        "id": "1UAqxxjViXlk"
      },
      "execution_count": null,
      "outputs": []
    },
    {
      "cell_type": "markdown",
      "source": [
        "### Training:"
      ],
      "metadata": {
        "id": "K2B22xHliXll"
      }
    },
    {
      "cell_type": "code",
      "source": [
        "print(\"---------------------------------------\")\n",
        "print(f\"Training, Env: {env_name}, Seed: {seed}\")\n",
        "print(\"---------------------------------------\")\n",
        "\n",
        "iql_trainer = ImplicitQLearning(**iql_kwargs)\n",
        "cql_trainer = ContinuousCQL(**cql_kwargs)\n",
        "\n",
        "iql_evaluations = []\n",
        "cql_evaluations = []\n",
        "\n",
        "for t in range(int(max_timesteps)):\n",
        "    batch = replay_buffer.sample(batch_size)\n",
        "    batch = [b.to(device) for b in batch]\n",
        "    iql_trainer.train(batch)\n",
        "    cql_trainer.train(batch)\n",
        "    # Evaluate episode\n",
        "    if (t + 1) % eval_freq == 0:\n",
        "        print(f\"Time steps: {t + 1}\")\n",
        "        iql_eval_scores = eval_actor(\n",
        "            env,\n",
        "            iql_actor,\n",
        "            device=device,\n",
        "            n_episodes=n_episodes,\n",
        "            seed=seed,\n",
        "        )\n",
        "        iql_norm_scores = [env.get_normalized_score(score) * 100.0 for score in iql_eval_scores]\n",
        "        iql_left = np.quantile(iql_norm_scores, (1 - alpha) / 2)\n",
        "        iql_right = np.quantile(iql_norm_scores, (1 + alpha) / 2)\n",
        "        iql_evaluations.append((iql_left, np.mean(iql_norm_scores), iql_right))\n",
        "\n",
        "        cql_eval_scores = eval_actor(\n",
        "            env,\n",
        "            cql_actor,\n",
        "            device=device,\n",
        "            n_episodes=n_episodes,\n",
        "            seed=seed,\n",
        "        )\n",
        "        cql_norm_scores = [env.get_normalized_score(score) * 100.0 for score in cql_eval_scores]\n",
        "        cql_left = np.quantile(cql_norm_scores, (1 - alpha) / 2)\n",
        "        cql_right = np.quantile(cql_norm_scores, (1 + alpha) / 2)\n",
        "        cql_evaluations.append((cql_left, np.mean(cql_norm_scores), cql_right))\n",
        "        print(\"---------------------------------------\")\n",
        "        print(\n",
        "            f\"Evaluation over {n_episodes} episodes: \"\n",
        "            f\"IQL score: {np.mean(iql_norm_scores):.3f}, \"\n",
        "            f\"CQL score: {np.mean(cql_norm_scores):.3f}\"\n",
        "        )\n",
        "        print(\"---------------------------------------\")"
      ],
      "metadata": {
        "id": "NqlF03NkiXln",
        "colab": {
          "base_uri": "https://localhost:8080/"
        },
        "outputId": "d12d3869-ff1b-4902-e05e-997d79c48c12"
      },
      "execution_count": null,
      "outputs": [
        {
          "output_type": "stream",
          "name": "stdout",
          "text": [
            "---------------------------------------\n",
            "Training, Env: antmaze-umaze-v0, Seed: 0\n",
            "---------------------------------------\n",
            "Time steps: 5000\n"
          ]
        },
        {
          "output_type": "stream",
          "name": "stderr",
          "text": [
            "/usr/local/lib/python3.10/dist-packages/gym/utils/seeding.py:38: DeprecationWarning: \u001b[33mWARN: Function `rng.randn(*size)` is marked as deprecated and will be removed in the future. Please use `rng.standard_normal(size)` instead.\u001b[0m\n",
            "  deprecation(\n"
          ]
        },
        {
          "output_type": "stream",
          "name": "stdout",
          "text": [
            "---------------------------------------\n",
            "Evaluation over 10 episodes: IQL score: 50.000, CQL score: 10.000\n",
            "---------------------------------------\n",
            "Time steps: 10000\n",
            "---------------------------------------\n",
            "Evaluation over 10 episodes: IQL score: 50.000, CQL score: 40.000\n",
            "---------------------------------------\n",
            "Time steps: 15000\n",
            "---------------------------------------\n",
            "Evaluation over 10 episodes: IQL score: 60.000, CQL score: 30.000\n",
            "---------------------------------------\n",
            "Time steps: 20000\n",
            "---------------------------------------\n",
            "Evaluation over 10 episodes: IQL score: 60.000, CQL score: 40.000\n",
            "---------------------------------------\n",
            "Time steps: 25000\n",
            "---------------------------------------\n",
            "Evaluation over 10 episodes: IQL score: 40.000, CQL score: 40.000\n",
            "---------------------------------------\n",
            "Time steps: 30000\n",
            "---------------------------------------\n",
            "Evaluation over 10 episodes: IQL score: 90.000, CQL score: 50.000\n",
            "---------------------------------------\n",
            "Time steps: 35000\n",
            "---------------------------------------\n",
            "Evaluation over 10 episodes: IQL score: 30.000, CQL score: 50.000\n",
            "---------------------------------------\n",
            "Time steps: 40000\n",
            "---------------------------------------\n",
            "Evaluation over 10 episodes: IQL score: 80.000, CQL score: 30.000\n",
            "---------------------------------------\n",
            "Time steps: 45000\n",
            "---------------------------------------\n",
            "Evaluation over 10 episodes: IQL score: 70.000, CQL score: 40.000\n",
            "---------------------------------------\n",
            "Time steps: 50000\n",
            "---------------------------------------\n",
            "Evaluation over 10 episodes: IQL score: 50.000, CQL score: 20.000\n",
            "---------------------------------------\n",
            "Time steps: 55000\n",
            "---------------------------------------\n",
            "Evaluation over 10 episodes: IQL score: 50.000, CQL score: 40.000\n",
            "---------------------------------------\n",
            "Time steps: 60000\n",
            "---------------------------------------\n",
            "Evaluation over 10 episodes: IQL score: 60.000, CQL score: 50.000\n",
            "---------------------------------------\n",
            "Time steps: 65000\n",
            "---------------------------------------\n",
            "Evaluation over 10 episodes: IQL score: 30.000, CQL score: 60.000\n",
            "---------------------------------------\n",
            "Time steps: 70000\n",
            "---------------------------------------\n",
            "Evaluation over 10 episodes: IQL score: 50.000, CQL score: 60.000\n",
            "---------------------------------------\n",
            "Time steps: 75000\n",
            "---------------------------------------\n",
            "Evaluation over 10 episodes: IQL score: 40.000, CQL score: 30.000\n",
            "---------------------------------------\n",
            "Time steps: 80000\n",
            "---------------------------------------\n",
            "Evaluation over 10 episodes: IQL score: 50.000, CQL score: 40.000\n",
            "---------------------------------------\n",
            "Time steps: 85000\n",
            "---------------------------------------\n",
            "Evaluation over 10 episodes: IQL score: 50.000, CQL score: 30.000\n",
            "---------------------------------------\n",
            "Time steps: 90000\n",
            "---------------------------------------\n",
            "Evaluation over 10 episodes: IQL score: 70.000, CQL score: 50.000\n",
            "---------------------------------------\n",
            "Time steps: 95000\n",
            "---------------------------------------\n",
            "Evaluation over 10 episodes: IQL score: 70.000, CQL score: 60.000\n",
            "---------------------------------------\n",
            "Time steps: 100000\n",
            "---------------------------------------\n",
            "Evaluation over 10 episodes: IQL score: 50.000, CQL score: 30.000\n",
            "---------------------------------------\n"
          ]
        }
      ]
    },
    {
      "cell_type": "markdown",
      "source": [
        "To be consistent with paper results, evaluation on 100 episodes is performed:"
      ],
      "metadata": {
        "id": "6NbwZ3mtBWFu"
      }
    },
    {
      "cell_type": "code",
      "source": [
        "iql_score = eval_actor_final(\n",
        "  env,\n",
        "  iql_actor,\n",
        "  device=device,\n",
        "  n_episodes=100\n",
        ")\n",
        "\n",
        "cql_score = eval_actor_final(\n",
        "  env,\n",
        "  cql_actor,\n",
        "  device=device,\n",
        "  n_episodes=100\n",
        ")"
      ],
      "metadata": {
        "id": "1FZybtGm7wno"
      },
      "execution_count": null,
      "outputs": []
    },
    {
      "cell_type": "code",
      "source": [
        "print(f\"Score for IQL = {iql_score:.3f}, score for CQL = {cql_score:.3f}\")"
      ],
      "metadata": {
        "id": "k6nGbpZ370W4",
        "colab": {
          "base_uri": "https://localhost:8080/"
        },
        "outputId": "ffeb8432-f2fb-4b53-d309-fb750a3e9bdb"
      },
      "execution_count": null,
      "outputs": [
        {
          "output_type": "stream",
          "name": "stdout",
          "text": [
            "Score for IQL = 57.333, score for CQL = 41.333\n"
          ]
        }
      ]
    },
    {
      "cell_type": "code",
      "source": [
        "plot_experiment_results(\n",
        "  np.array([(0, 0, 0)] + iql_evaluations), 87.5, \"IQL\",\n",
        "  np.array([(0, 0, 0)] + cql_evaluations), 74.0, \"CQL\",\n",
        ")"
      ],
      "metadata": {
        "id": "ix1npwpEviIa",
        "colab": {
          "base_uri": "https://localhost:8080/",
          "height": 630
        },
        "outputId": "9eebb41e-a3e1-43f3-e044-4d35b702f2e4"
      },
      "execution_count": null,
      "outputs": [
        {
          "output_type": "display_data",
          "data": {
            "text/plain": [
              "<Figure size 1000x700 with 1 Axes>"
            ],
            "image/png": "[encoded data removed]"
          },
          "metadata": {}
        }
      ]
    },
    {
      "cell_type": "markdown",
      "source": [
        "Confidence interval is very informative...\n",
        "\n",
        "Although the results are far from the expected ones, the dynamic is visible: methods really learn the optimal policy from suboptimal ones. Single-step methods, presented in papers, usually produce scores close to 0. Thus, even the produces results can be interpreted as a success."
      ],
      "metadata": {
        "id": "n5QlGXf9MAvo"
      }
    },
    {
      "cell_type": "markdown",
      "source": [
        "## IQL with different parameters in antmaze-umaze-v0  environment"
      ],
      "metadata": {
        "id": "g933k1fXicrf"
      }
    },
    {
      "cell_type": "markdown",
      "source": [
        "IQL paper insists on tuning its hyperparameters being an important aspect of method application. Hence, I am curious to investigate the impact of $\\tau$ and $\\beta$ (expectile and inverse temperature respectively) on performance when applied to datasets that contain a number of suboptimal actions, thus leading model to capture optimal actions and combine them into final policy. "
      ],
      "metadata": {
        "id": "0dw8vjLRicrj"
      }
    },
    {
      "cell_type": "markdown",
      "source": [
        "### Data preparation:"
      ],
      "metadata": {
        "id": "P3o4m7p5icrl"
      }
    },
    {
      "cell_type": "code",
      "source": [
        "env_name = \"antmaze-umaze-v0\"\n",
        "\n",
        "env = gym.make(env_name)\n",
        "state_dim = env.observation_space.shape[0]\n",
        "action_dim = env.action_space.shape[0]\n",
        "\n",
        "dataset = d4rl.qlearning_dataset(env)\n",
        "state_mean, state_std = compute_mean_std(dataset[\"observations\"], eps=1e-3)\n",
        "\n",
        "dataset[\"observations\"] = normalize_states(\n",
        "    dataset[\"observations\"], state_mean, state_std\n",
        ")\n",
        "dataset[\"next_observations\"] = normalize_states(\n",
        "    dataset[\"next_observations\"], state_mean, state_std\n",
        ")\n",
        "env = wrap_env(env, state_mean=state_mean, state_std=state_std)\n",
        "\n",
        "replay_buffer = ReplayBuffer(\n",
        "    state_dim,\n",
        "    action_dim,\n",
        "    buffer_size,\n",
        "    device,\n",
        ")\n",
        "replay_buffer.load_d4rl_dataset(dataset)\n",
        "\n",
        "max_action = float(env.action_space.high[0])\n",
        "seed = 0\n",
        "set_seed(seed, env)"
      ],
      "metadata": {
        "id": "O1Cb-nnRicrn",
        "colab": {
          "base_uri": "https://localhost:8080/"
        },
        "outputId": "8464076c-cfbe-4549-b28d-8a53f9e797ee"
      },
      "execution_count": 8,
      "outputs": [
        {
          "output_type": "stream",
          "name": "stderr",
          "text": [
            "/usr/local/lib/python3.10/dist-packages/gym/envs/registration.py:505: UserWarning: \u001b[33mWARN: The environment antmaze-umaze-v0 is out of date. You should consider upgrading to version `v2` with the environment ID `antmaze-umaze-v2`.\u001b[0m\n",
            "  logger.warn(\n",
            "/usr/local/lib/python3.10/dist-packages/d4rl/locomotion/ant.py:180: UserWarning: \u001b[33mThis environment is deprecated. Please use the most recent version of this environment.\u001b[0m\n",
            "  offline_env.OfflineEnv.__init__(self, **kwargs)\n",
            "/usr/local/lib/python3.10/dist-packages/gym/spaces/box.py:84: UserWarning: \u001b[33mWARN: Box bound precision lowered by casting to float32\u001b[0m\n",
            "  logger.warn(f\"Box bound precision lowered by casting to {self.dtype}\")\n"
          ]
        },
        {
          "output_type": "stream",
          "name": "stdout",
          "text": [
            "Target Goal:  (0.9865967920237388, 8.495752332918954)\n",
            "Downloading dataset: http://rail.eecs.berkeley.edu/datasets/offline_rl/ant_maze_new/Ant_maze_u-maze_noisy_multistart_False_multigoal_False_sparse.hdf5 to /root/.d4rl/datasets/Ant_maze_u-maze_noisy_multistart_False_multigoal_False_sparse.hdf5\n"
          ]
        },
        {
          "output_type": "stream",
          "name": "stderr",
          "text": [
            "load datafile: 100%|██████████| 8/8 [00:02<00:00,  3.12it/s]\n"
          ]
        },
        {
          "output_type": "stream",
          "name": "stdout",
          "text": [
            "Dataset size: 998573\n"
          ]
        },
        {
          "output_type": "stream",
          "name": "stderr",
          "text": [
            "/usr/local/lib/python3.10/dist-packages/gym/core.py:172: DeprecationWarning: \u001b[33mWARN: Function `env.seed(seed)` is marked as deprecated and will be removed in the future. Please use `env.reset(seed=seed) instead.\u001b[0m\n",
            "  deprecation(\n"
          ]
        }
      ]
    },
    {
      "cell_type": "markdown",
      "source": [
        "### First IQL initialization:"
      ],
      "metadata": {
        "id": "WlMU4DJMicrt"
      }
    },
    {
      "cell_type": "code",
      "source": [
        "q_network_first = TwinQ(state_dim, action_dim).to(device)\n",
        "v_network_first = ValueFunction(state_dim).to(device)\n",
        "iql_actor_first = GaussianPolicy(state_dim, action_dim, max_action).to(device)\n",
        "\n",
        "v_optimizer_first = torch.optim.Adam(v_network_first.parameters(), lr=3e-4)\n",
        "q_optimizer_first = torch.optim.Adam(q_network_first.parameters(), lr=3e-4)\n",
        "iql_actor_optimizer_first = torch.optim.Adam(iql_actor_first.parameters(), lr=3e-4)\n",
        "\n",
        "iql_kwargs_first = {\n",
        "  \"max_action\": max_action,\n",
        "  \"actor\": iql_actor_first,\n",
        "  \"actor_optimizer\": iql_actor_optimizer_first,\n",
        "  \"q_network\": q_network_first,\n",
        "  \"q_optimizer\": q_optimizer_first,\n",
        "  \"v_network\": v_network_first,\n",
        "  \"v_optimizer\": v_optimizer_first,\n",
        "  \"discount\": discount,\n",
        "  \"tau\": tau,\n",
        "  \"device\": device,\n",
        "  \"beta\": beta,\n",
        "  \"iql_tau\": iql_tau,\n",
        "  \"max_steps\": max_timesteps,\n",
        "}"
      ],
      "metadata": {
        "id": "jg3Lr7tAicrv"
      },
      "execution_count": 9,
      "outputs": []
    },
    {
      "cell_type": "markdown",
      "source": [
        "### Second IQL initialization:"
      ],
      "metadata": {
        "id": "3vYezRFoicrx"
      }
    },
    {
      "cell_type": "code",
      "source": [
        "q_network_second = TwinQ(state_dim, action_dim).to(device)\n",
        "v_network_second = ValueFunction(state_dim).to(device)\n",
        "iql_actor_second = GaussianPolicy(state_dim, action_dim, max_action).to(device)\n",
        "\n",
        "v_optimizer_second = torch.optim.Adam(v_network_second.parameters(), lr=3e-4)\n",
        "q_optimizer_second = torch.optim.Adam(q_network_second.parameters(), lr=3e-4)\n",
        "iql_actor_optimizer_second = torch.optim.Adam(iql_actor_second.parameters(), lr=3e-4)\n",
        "\n",
        "iql_kwargs_second = {\n",
        "  \"max_action\": max_action,\n",
        "  \"actor\": iql_actor_second,\n",
        "  \"actor_optimizer\": iql_actor_optimizer_second,\n",
        "  \"q_network\": q_network_second,\n",
        "  \"q_optimizer\": q_optimizer_second,\n",
        "  \"v_network\": v_network_second,\n",
        "  \"v_optimizer\": v_optimizer_second,\n",
        "  \"discount\": discount,\n",
        "  \"tau\": tau,\n",
        "  \"device\": device,\n",
        "  \"beta\": 10.0,\n",
        "  \"iql_tau\": 0.9,\n",
        "  \"max_steps\": max_timesteps,\n",
        "}"
      ],
      "metadata": {
        "id": "9snzVuPdicrz"
      },
      "execution_count": 10,
      "outputs": []
    },
    {
      "cell_type": "markdown",
      "source": [
        "### Training:"
      ],
      "metadata": {
        "id": "iVCwET_1icr1"
      }
    },
    {
      "cell_type": "code",
      "source": [
        "print(\"---------------------------------------\")\n",
        "print(f\"Training, Env: {env_name}, Seed: {seed}\")\n",
        "print(\"---------------------------------------\")\n",
        "\n",
        "iql_trainer_first = ImplicitQLearning(**iql_kwargs_first)\n",
        "iql_trainer_second = ImplicitQLearning(**iql_kwargs_second)\n",
        "\n",
        "iql_evaluations_first = []\n",
        "iql_evaluations_second = []\n",
        "\n",
        "for t in range(int(max_timesteps)):\n",
        "    batch = replay_buffer.sample(batch_size)\n",
        "    batch = [b.to(device) for b in batch]\n",
        "    iql_trainer_first.train(batch)\n",
        "    iql_trainer_second.train(batch)\n",
        "    # Evaluate episode\n",
        "    if (t + 1) % eval_freq == 0:\n",
        "        print(f\"Time steps: {t + 1}\")\n",
        "        iql_eval_scores_first = eval_actor(\n",
        "            env,\n",
        "            iql_actor_first,\n",
        "            device=device,\n",
        "            n_episodes=n_episodes,\n",
        "            seed=seed,\n",
        "        )\n",
        "        iql_norm_scores_first = [env.get_normalized_score(score) * 100.0 for score in iql_eval_scores_first]\n",
        "        iql_left_first = np.quantile(iql_norm_scores_first, (1 - alpha) / 2)\n",
        "        iql_right_first = np.quantile(iql_norm_scores_first, (1 + alpha) / 2)\n",
        "        iql_evaluations_first.append((iql_left_first, np.mean(iql_norm_scores_first), iql_right_first))\n",
        "\n",
        "        iql_eval_scores_second = eval_actor(\n",
        "            env,\n",
        "            iql_actor_second,\n",
        "            device=device,\n",
        "            n_episodes=n_episodes,\n",
        "            seed=seed,\n",
        "        )\n",
        "        iql_norm_scores_second = [env.get_normalized_score(score) * 100.0 for score in iql_eval_scores_second]\n",
        "        iql_left_second = np.quantile(iql_norm_scores_second, (1 - alpha) / 2)\n",
        "        iql_right_second = np.quantile(iql_norm_scores_second, (1 + alpha) / 2)\n",
        "        iql_evaluations_second.append((iql_left_second, np.mean(iql_norm_scores_second), iql_right_second))\n",
        "        print(\"---------------------------------------\")\n",
        "        print(\n",
        "            f\"Evaluation over {n_episodes} episodes: \"\n",
        "            f\"First IQL score: {np.mean(iql_norm_scores_first):.3f}, \"\n",
        "            f\"Second IQL score: {np.mean(iql_norm_scores_second):.3f}\"\n",
        "        )\n",
        "        print(\"---------------------------------------\")"
      ],
      "metadata": {
        "id": "PDUWzXI2icr2",
        "colab": {
          "base_uri": "https://localhost:8080/"
        },
        "outputId": "ff820f9a-9ec5-4883-9d1a-ab37e1fa9b6d"
      },
      "execution_count": 11,
      "outputs": [
        {
          "output_type": "stream",
          "name": "stdout",
          "text": [
            "---------------------------------------\n",
            "Training, Env: antmaze-umaze-v0, Seed: 0\n",
            "---------------------------------------\n",
            "Time steps: 5000\n"
          ]
        },
        {
          "output_type": "stream",
          "name": "stderr",
          "text": [
            "/usr/local/lib/python3.10/dist-packages/gym/utils/seeding.py:38: DeprecationWarning: \u001b[33mWARN: Function `rng.randn(*size)` is marked as deprecated and will be removed in the future. Please use `rng.standard_normal(size)` instead.\u001b[0m\n",
            "  deprecation(\n"
          ]
        },
        {
          "output_type": "stream",
          "name": "stdout",
          "text": [
            "---------------------------------------\n",
            "Evaluation over 10 episodes: First IQL score: 50.000, Second IQL score: 70.000\n",
            "---------------------------------------\n",
            "Time steps: 10000\n",
            "---------------------------------------\n",
            "Evaluation over 10 episodes: First IQL score: 60.000, Second IQL score: 40.000\n",
            "---------------------------------------\n",
            "Time steps: 15000\n",
            "---------------------------------------\n",
            "Evaluation over 10 episodes: First IQL score: 70.000, Second IQL score: 90.000\n",
            "---------------------------------------\n",
            "Time steps: 20000\n",
            "---------------------------------------\n",
            "Evaluation over 10 episodes: First IQL score: 60.000, Second IQL score: 60.000\n",
            "---------------------------------------\n",
            "Time steps: 25000\n",
            "---------------------------------------\n",
            "Evaluation over 10 episodes: First IQL score: 60.000, Second IQL score: 40.000\n",
            "---------------------------------------\n",
            "Time steps: 30000\n",
            "---------------------------------------\n",
            "Evaluation over 10 episodes: First IQL score: 40.000, Second IQL score: 60.000\n",
            "---------------------------------------\n",
            "Time steps: 35000\n",
            "---------------------------------------\n",
            "Evaluation over 10 episodes: First IQL score: 50.000, Second IQL score: 100.000\n",
            "---------------------------------------\n",
            "Time steps: 40000\n",
            "---------------------------------------\n",
            "Evaluation over 10 episodes: First IQL score: 80.000, Second IQL score: 70.000\n",
            "---------------------------------------\n",
            "Time steps: 45000\n",
            "---------------------------------------\n",
            "Evaluation over 10 episodes: First IQL score: 60.000, Second IQL score: 80.000\n",
            "---------------------------------------\n",
            "Time steps: 50000\n",
            "---------------------------------------\n",
            "Evaluation over 10 episodes: First IQL score: 50.000, Second IQL score: 60.000\n",
            "---------------------------------------\n",
            "Time steps: 55000\n",
            "---------------------------------------\n",
            "Evaluation over 10 episodes: First IQL score: 40.000, Second IQL score: 70.000\n",
            "---------------------------------------\n",
            "Time steps: 60000\n",
            "---------------------------------------\n",
            "Evaluation over 10 episodes: First IQL score: 60.000, Second IQL score: 70.000\n",
            "---------------------------------------\n",
            "Time steps: 65000\n",
            "---------------------------------------\n",
            "Evaluation over 10 episodes: First IQL score: 60.000, Second IQL score: 70.000\n",
            "---------------------------------------\n",
            "Time steps: 70000\n",
            "---------------------------------------\n",
            "Evaluation over 10 episodes: First IQL score: 40.000, Second IQL score: 50.000\n",
            "---------------------------------------\n",
            "Time steps: 75000\n",
            "---------------------------------------\n",
            "Evaluation over 10 episodes: First IQL score: 80.000, Second IQL score: 70.000\n",
            "---------------------------------------\n",
            "Time steps: 80000\n",
            "---------------------------------------\n",
            "Evaluation over 10 episodes: First IQL score: 50.000, Second IQL score: 40.000\n",
            "---------------------------------------\n",
            "Time steps: 85000\n",
            "---------------------------------------\n",
            "Evaluation over 10 episodes: First IQL score: 70.000, Second IQL score: 60.000\n",
            "---------------------------------------\n",
            "Time steps: 90000\n",
            "---------------------------------------\n",
            "Evaluation over 10 episodes: First IQL score: 70.000, Second IQL score: 60.000\n",
            "---------------------------------------\n",
            "Time steps: 95000\n",
            "---------------------------------------\n",
            "Evaluation over 10 episodes: First IQL score: 70.000, Second IQL score: 70.000\n",
            "---------------------------------------\n",
            "Time steps: 100000\n",
            "---------------------------------------\n",
            "Evaluation over 10 episodes: First IQL score: 70.000, Second IQL score: 40.000\n",
            "---------------------------------------\n"
          ]
        }
      ]
    },
    {
      "cell_type": "code",
      "source": [
        "first_score = eval_actor_final(\n",
        "  env,\n",
        "  iql_actor_first,\n",
        "  device=device,\n",
        "  n_episodes=100\n",
        ")\n",
        "\n",
        "second_score = eval_actor_final(\n",
        "  env,\n",
        "  iql_actor_second,\n",
        "  device=device,\n",
        "  n_episodes=100\n",
        ")"
      ],
      "metadata": {
        "id": "PpoJtaoU5jB5"
      },
      "execution_count": 12,
      "outputs": []
    },
    {
      "cell_type": "code",
      "source": [
        "print(f\"First IQL score = {first_score}, second IQL score = {second_score}\")"
      ],
      "metadata": {
        "id": "hJ4rIFi153HW",
        "colab": {
          "base_uri": "https://localhost:8080/"
        },
        "outputId": "b73d755c-0995-4d1f-bcba-c7146f1e42bc"
      },
      "execution_count": 13,
      "outputs": [
        {
          "output_type": "stream",
          "name": "stdout",
          "text": [
            "First IQL score = 55.333333333333336, second IQL score = 64.0\n"
          ]
        }
      ]
    },
    {
      "cell_type": "markdown",
      "source": [
        "Results prove the assumption made: higher $\\tau$ and inverse temperature actually respond to the process of extracting the optimal value of Q-function. "
      ],
      "metadata": {
        "id": "xnkgqLpZiHz_"
      }
    },
    {
      "cell_type": "markdown",
      "source": [
        "# Conclusion"
      ],
      "metadata": {
        "id": "QgkxreBmS489"
      }
    },
    {
      "cell_type": "markdown",
      "source": [
        "I am not completely satisfied with results I got. Some experiments have proven the proposed hypotheses, and some need more time and resources to train. \n",
        "\n",
        "However, several conclusions can be made:\n",
        "\n",
        "* IQL performed better in the studied tasks, but has proven to be quite unstable, meaning that its performance can drop due to some unlucky action. CQL displayed more stability and had quite narrow confidence interval for normalized scores, yet converging to a suboptimal value.\n",
        "\n",
        "* Experiments have actually proven that multi-step methods have prominent performance in complex tasks (e.g. antmaze) that require constructing an optimal policy from suboptimal parts. Therefore, it is important to use these methods insted of single-step methods.\n",
        "\n",
        "Despite experiments not being very successful, I enjoyed the process of completing the task a lot. I am grateful for the opportunity to dive into the methods and to use the CORL library, which was a huge help for my research.\n",
        "\n",
        "I am absolutely thrilled to advance further into the Offline RL and hope to participate in the Tinkoff Lab team's work in this field.\n"
      ],
      "metadata": {
        "id": "OyYRoTEiS63c"
      }
    }
  ],
  "metadata": {
    "accelerator": "GPU",
    "colab": {
      "provenance": [],
      "collapsed_sections": [
        "GevZcaqRXXVv",
        "95lz0ctHcHQ6",
        "sUhqFjX2d3NF",
        "LFgXoN4UiVS4",
        "hLrbjAT_iXlX"
      ]
    },
    "kernelspec": {
      "display_name": "Python 3",
      "name": "python3"
    },
    "language_info": {
      "name": "python"
    },
    "gpuClass": "standard"
  },
  "nbformat": 4,
  "nbformat_minor": 0
}